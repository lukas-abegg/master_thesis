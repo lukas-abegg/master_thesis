{
 "cells": [
  {
   "cell_type": "code",
   "execution_count": 21,
   "metadata": {},
   "outputs": [],
   "source": [
    "import nltk.data\n",
    "import pandas as pd\n",
    "import os"
   ]
  },
  {
   "cell_type": "code",
   "execution_count": 22,
   "metadata": {},
   "outputs": [
    {
     "name": "stdout",
     "output_type": "stream",
     "text": [
      "Newsela article sentences automatically assigned:\n",
      "------------------------------\n"
     ]
    }
   ],
   "source": [
    "newsela = \"../data/newsela\"\n",
    "\n",
    "print(\"Newsela article sentences automatically assigned:\")\n",
    "print(\"------------------------------\")\n",
    "\n",
    "filepath_aligned = 'newsela_articles.aligned.sents.txt'\n",
    "filepath_aligned = os.path.join(newsela, filepath_aligned)\n",
    "\n",
    "df = pd.read_csv(filepath_aligned, header=None, sep=\"\\n\")\n",
    "df.columns = [\"S\"]\n",
    "df.S.replace(r'\\\\n',' ', regex=True)\n",
    "df = df.S.str.split(\"\\t\", expand=True)\n",
    "df.columns = [\"Doc\", \"O_V\", \"T_V\", \"O_T\", \"T_T\"]\n"
   ]
  },
  {
   "cell_type": "code",
   "execution_count": 13,
   "metadata": {
    "pycharm": {
     "name": "#%%\n"
    }
   },
   "outputs": [],
   "source": [
    "df_V0_V1 = df[(df.O_V == \"V0\")&(df.T_V == \"V1\")]\n",
    "df_V0_V2 = df[(df.O_V == \"V0\")&(df.T_V == \"V2\")]\n",
    "df_V0_V3 = df[(df.O_V == \"V0\")&(df.T_V == \"V3\")]\n",
    "df_V0_V4 = df[(df.O_V == \"V0\")&(df.T_V == \"V4\")]\n",
    "\n",
    "df_V1_V2 = df[(df.O_V == \"V1\")&(df.T_V == \"V2\")]\n",
    "df_V1_V3 = df[(df.O_V == \"V1\")&(df.T_V == \"V3\")]\n",
    "df_V1_V4 = df[(df.O_V == \"V1\")&(df.T_V == \"V4\")]\n",
    "\n",
    "df_V2_V3 = df[(df.O_V == \"V2\")&(df.T_V == \"V3\")]\n",
    "df_V2_V4 = df[(df.O_V == \"V2\")&(df.T_V == \"V4\")]\n",
    "\n",
    "df_V3_V4 = df[(df.O_V == \"V3\")&(df.T_V == \"V4\")]"
   ]
  },
  {
   "cell_type": "code",
   "execution_count": 14,
   "metadata": {},
   "outputs": [
    {
     "name": "stdout",
     "output_type": "stream",
     "text": [
      "\n",
      "V0:\n",
      "***************\n",
      "16611\n",
      "20122\n",
      "19891\n",
      "16086\n",
      "\n",
      "V1:\n",
      "***************\n",
      "12888\n",
      "13296\n",
      "10577\n",
      "\n",
      "V2:\n",
      "***************\n",
      "12146\n",
      "10185\n",
      "\n",
      "V3:\n",
      "***************\n",
      "9780\n",
      "\n",
      "V0-Sum:\n",
      "***************\n",
      "72710\n",
      "\n",
      "V1-Sum:\n",
      "***************\n",
      "36761\n",
      "\n",
      "V2-Sum:\n",
      "***************\n",
      "22331\n",
      "\n",
      "V3-Sum:\n",
      "***************\n",
      "9780\n",
      "\n",
      "Sum (V0-V3):\n",
      "***************\n",
      "141582\n"
     ]
    }
   ],
   "source": [
    "print(\"\\nV0:\")\n",
    "print(\"***************\")\n",
    "print(len(df_V0_V1))\n",
    "print(len(df_V0_V2))\n",
    "print(len(df_V0_V3))\n",
    "print(len(df_V0_V4))\n",
    "\n",
    "print(\"\\nV1:\")\n",
    "print(\"***************\")\n",
    "print(len(df_V1_V2))\n",
    "print(len(df_V1_V3))\n",
    "print(len(df_V1_V4))\n",
    "\n",
    "print(\"\\nV2:\")\n",
    "print(\"***************\")\n",
    "print(len(df_V2_V3))\n",
    "print(len(df_V2_V4))\n",
    "\n",
    "print(\"\\nV3:\")\n",
    "print(\"***************\")\n",
    "print(len(df_V3_V4))\n",
    "\n",
    "#----------------------\n",
    "\n",
    "print(\"\\nV0-Sum:\")\n",
    "print(\"***************\")\n",
    "print(len(df_V0_V1) + len(df_V0_V2) + len(df_V0_V3) + len(df_V0_V4))\n",
    "\n",
    "print(\"\\nV1-Sum:\")\n",
    "print(\"***************\")\n",
    "print(len(df_V1_V2) + len(df_V1_V3) + len(df_V1_V4))\n",
    "\n",
    "print(\"\\nV2-Sum:\")\n",
    "print(\"***************\")\n",
    "print(len(df_V2_V3) + len(df_V2_V4))\n",
    "\n",
    "print(\"\\nV3-Sum:\")\n",
    "print(\"***************\")\n",
    "print(len(df_V3_V4))\n",
    "\n",
    "#----------------------\n",
    "\n",
    "print(\"\\nSum (V0-V3):\")\n",
    "print(\"***************\")\n",
    "print(len(df_V0_V1) + len(df_V0_V2) + len(df_V0_V3) + len(df_V0_V4) + len(df_V1_V2) + len(df_V1_V3) + len(df_V1_V4) + len(df_V2_V3) + len(df_V2_V4) + len(df_V3_V4))"
   ]
  },
  {
   "cell_type": "code",
   "execution_count": 15,
   "metadata": {},
   "outputs": [
    {
     "name": "stdout",
     "output_type": "stream",
     "text": [
      "\n",
      "To V1-Sum:\n",
      "***************\n",
      "16611\n",
      "\n",
      "To V2-Sum:\n",
      "***************\n",
      "33010\n",
      "\n",
      "To V3-Sum:\n",
      "***************\n",
      "45333\n",
      "\n",
      "To V4-Sum:\n",
      "***************\n",
      "46628\n"
     ]
    }
   ],
   "source": [
    "df_to_V1 = df[(df.T_V == \"V1\")]\n",
    "print(\"\\nTo V1-Sum:\")\n",
    "print(\"***************\")\n",
    "print(len(df_to_V1))\n",
    "\n",
    "df_to_V2 = df[(df.T_V == \"V2\")]\n",
    "print(\"\\nTo V2-Sum:\")\n",
    "print(\"***************\")\n",
    "print(len(df_to_V2))\n",
    "\n",
    "df_to_V3 = df[(df.T_V == \"V3\")]\n",
    "print(\"\\nTo V3-Sum:\")\n",
    "print(\"***************\")\n",
    "print(len(df_to_V3))\n",
    "\n",
    "df_to_V4 = df[(df.T_V == \"V4\")]\n",
    "print(\"\\nTo V4-Sum:\")\n",
    "print(\"***************\")\n",
    "print(len(df_to_V4))"
   ]
  },
  {
   "cell_type": "code",
   "execution_count": 16,
   "metadata": {},
   "outputs": [
    {
     "data": {
      "text/plain": "1130"
     },
     "execution_count": 16,
     "metadata": {},
     "output_type": "execute_result"
    }
   ],
   "source": [
    "docs = df.Doc.drop_duplicates()\n",
    "len(docs)"
   ]
  },
  {
   "cell_type": "code",
   "execution_count": 17,
   "metadata": {},
   "outputs": [],
   "source": [
    "filepath_metadata = 'articles_metadata.csv'\n",
    "filepath_metadata = os.path.join(newsela, filepath_metadata)\n",
    "\n",
    "df_metadata = pd.read_csv(filepath_metadata, sep=\",\")"
   ]
  },
  {
   "cell_type": "code",
   "execution_count": 18,
   "metadata": {},
   "outputs": [
    {
     "name": "stdout",
     "output_type": "stream",
     "text": [
      "                 slug language  \\\n",
      "0  10dollarbill-woman       en   \n",
      "1  10dollarbill-woman       en   \n",
      "2  10dollarbill-woman       en   \n",
      "3  10dollarbill-woman       en   \n",
      "4  10dollarbill-woman       en   \n",
      "\n",
      "                                               title  grade_level  version  \\\n",
      "0  Tubman, Perkins or Roosevelt? Woman on $10 bil...         12.0        0   \n",
      "1  Americans weigh in to choose the woman who wil...          8.0        1   \n",
      "2  The $10 question: Who will be the new face on ...          6.0        2   \n",
      "3  New $10 bill will have a theme and a woman's p...          5.0        3   \n",
      "4  We will soon have an American woman's face on ...          3.0        4   \n",
      "\n",
      "                      filename  \n",
      "0  10dollarbill-woman.en.0.txt  \n",
      "1  10dollarbill-woman.en.1.txt  \n",
      "2  10dollarbill-woman.en.2.txt  \n",
      "3  10dollarbill-woman.en.3.txt  \n",
      "4  10dollarbill-woman.en.4.txt  \n",
      "\n",
      "****************\n",
      "\n",
      "Amount of sentences at all: 10786\n",
      "\n",
      "Columns: Index(['slug', 'language', 'title', 'grade_level', 'version', 'filename'], dtype='object')\n",
      "\n",
      "Amount of Sentences: 2154\n",
      "\n",
      "Amount of Sentences V0: 2154\n",
      "\n",
      "Amount of Sentences V1: 2153\n",
      "\n",
      "Amount of Sentences V2: 2153\n",
      "\n",
      "Amount of Sentences V3: 2153\n",
      "\n",
      "Amount of Sentences V4: 2125\n",
      "\n",
      "Amount of Sentences V5: 48\n",
      "\n",
      "Amount of Sentences V6: 0\n",
      "\n",
      "Overall V0-V6: 10786\n"
     ]
    }
   ],
   "source": [
    "print(df_metadata.head())\n",
    "print(\"\\n****************\")\n",
    "print(\"\\nAmount of sentences at all:\", len(df_metadata))\n",
    "print(\"\\nColumns:\", df_metadata.columns)\n",
    "print(\"\\nAmount of Sentences:\", len(df_metadata.slug.drop_duplicates()))\n",
    "print(\"\\nAmount of Sentences V0:\", len(df_metadata[(df_metadata.version == 0)]))\n",
    "print(\"\\nAmount of Sentences V1:\", len(df_metadata[(df_metadata.version == 1)]))\n",
    "print(\"\\nAmount of Sentences V2:\", len(df_metadata[(df_metadata.version == 2)]))\n",
    "print(\"\\nAmount of Sentences V3:\", len(df_metadata[(df_metadata.version == 3)]))\n",
    "print(\"\\nAmount of Sentences V4:\", len(df_metadata[(df_metadata.version == 4)]))\n",
    "print(\"\\nAmount of Sentences V5:\", len(df_metadata[(df_metadata.version == 5)]))\n",
    "print(\"\\nAmount of Sentences V6:\", len(df_metadata[(df_metadata.version == 6)]))\n",
    "print(\"\\nOverall V0-V6:\", len(df_metadata[df_metadata.version.isin([0,1,2,3,4,5,6])]))"
   ]
  },
  {
   "cell_type": "code",
   "execution_count": 19,
   "metadata": {},
   "outputs": [
    {
     "name": "stdout",
     "output_type": "stream",
     "text": [
      "df_json en 1130\n",
      "df_json es 0\n",
      "df_json length 1130\n"
     ]
    },
    {
     "data": {
      "text/plain": "category                                    {'name': 'War & Peace'}\narticles          [{'grade_level': 3.0, 'docid': 8, 'title': 'Wo...\nlanguage                                                         en\ntags                                                     [military]\nimage             https://newsela-test-files-f331e.s3.amazonaws....\nimage_caption     Specialist Crisma Albarran detaches an ammunit...\ndate_published                                 2013-03-20T14:26:20Z\nimage_credit                                              U.S. Army\nslug                                                   combat-women\nName: 0, dtype: object"
     },
     "execution_count": 19,
     "metadata": {},
     "output_type": "execute_result"
    }
   ],
   "source": [
    "import json\n",
    "\n",
    "filepath_json = 'newsela_articles.sents.json'\n",
    "filepath_json = os.path.join(newsela, filepath_json)\n",
    "    \n",
    "df_json = pd.read_json(filepath_json)\n",
    "print(\"df_json en\", len(df_json[df_json.language == \"en\"]))\n",
    "print(\"df_json es\", len(df_json[df_json.language == \"es\"]))\n",
    "print(\"df_json length\", len(df_json))\n",
    "df_json.iloc[0]"
   ]
  },
  {
   "cell_type": "code",
   "execution_count": 20,
   "metadata": {},
   "outputs": [
    {
     "data": {
      "text/plain": "   grade_level  docid                                              title  \\\n0          5.0   1101           PRO/CON: Will the CIA torture hurt U.S.?   \n1          6.0   1101  PRO/CON: Does the CIA torture report put the U...   \n2          7.0   1101  PRO/CON: Will the CIA torture report put the U...   \n3          9.0   1101  PRO/CON: Does the CIA torture report hurt the ...   \n4         12.0   1101  PRO/CON: Will the release of the CIA torture r...   \n\n   lexile_level                                          sentences  \\\n0           740  [# # # PRO : Report makes more attacks more li...   \n1           890  [# # # PRO : Report leaves U.S. more open to a...   \n2           940  [# # # PRO : Report puts American lives at ris...   \n3          1100  [# # # PRO : Report gives extremists a rallyin...   \n4          1360  [# # # PRO : CIA report encourages extremists ...   \n\n   is_original                                             teaser  \\\n0        False  It gives extremists one more reason to attack ...   \n1        False  The PRO author argues that the report gives a ...   \n2        False  Extremists will use the report to get more fig...   \n3        False  The report gives ammunition to extremist group...   \n4         True  The PRO writer argues that the report will act...   \n\n                                 author_display_name  \n0  Tribune News Service and McClatchy, adapted by...  \n1  Tribune News Service and McClatchy, adapted by...  \n2  Tribune News Service and McClatchy, adapted by...  \n3  Tribune News Service and McClatchy, adapted by...  \n4  Lawrence J. Haas, Tribune News Service, and Jo...  ",
      "text/html": "<div>\n<style scoped>\n    .dataframe tbody tr th:only-of-type {\n        vertical-align: middle;\n    }\n\n    .dataframe tbody tr th {\n        vertical-align: top;\n    }\n\n    .dataframe thead th {\n        text-align: right;\n    }\n</style>\n<table border=\"1\" class=\"dataframe\">\n  <thead>\n    <tr style=\"text-align: right;\">\n      <th></th>\n      <th>grade_level</th>\n      <th>docid</th>\n      <th>title</th>\n      <th>lexile_level</th>\n      <th>sentences</th>\n      <th>is_original</th>\n      <th>teaser</th>\n      <th>author_display_name</th>\n    </tr>\n  </thead>\n  <tbody>\n    <tr>\n      <th>0</th>\n      <td>5.0</td>\n      <td>1101</td>\n      <td>PRO/CON: Will the CIA torture hurt U.S.?</td>\n      <td>740</td>\n      <td>[# # # PRO : Report makes more attacks more li...</td>\n      <td>False</td>\n      <td>It gives extremists one more reason to attack ...</td>\n      <td>Tribune News Service and McClatchy, adapted by...</td>\n    </tr>\n    <tr>\n      <th>1</th>\n      <td>6.0</td>\n      <td>1101</td>\n      <td>PRO/CON: Does the CIA torture report put the U...</td>\n      <td>890</td>\n      <td>[# # # PRO : Report leaves U.S. more open to a...</td>\n      <td>False</td>\n      <td>The PRO author argues that the report gives a ...</td>\n      <td>Tribune News Service and McClatchy, adapted by...</td>\n    </tr>\n    <tr>\n      <th>2</th>\n      <td>7.0</td>\n      <td>1101</td>\n      <td>PRO/CON: Will the CIA torture report put the U...</td>\n      <td>940</td>\n      <td>[# # # PRO : Report puts American lives at ris...</td>\n      <td>False</td>\n      <td>Extremists will use the report to get more fig...</td>\n      <td>Tribune News Service and McClatchy, adapted by...</td>\n    </tr>\n    <tr>\n      <th>3</th>\n      <td>9.0</td>\n      <td>1101</td>\n      <td>PRO/CON: Does the CIA torture report hurt the ...</td>\n      <td>1100</td>\n      <td>[# # # PRO : Report gives extremists a rallyin...</td>\n      <td>False</td>\n      <td>The report gives ammunition to extremist group...</td>\n      <td>Tribune News Service and McClatchy, adapted by...</td>\n    </tr>\n    <tr>\n      <th>4</th>\n      <td>12.0</td>\n      <td>1101</td>\n      <td>PRO/CON: Will the release of the CIA torture r...</td>\n      <td>1360</td>\n      <td>[# # # PRO : CIA report encourages extremists ...</td>\n      <td>True</td>\n      <td>The PRO writer argues that the report will act...</td>\n      <td>Lawrence J. Haas, Tribune News Service, and Jo...</td>\n    </tr>\n  </tbody>\n</table>\n</div>"
     },
     "execution_count": 20,
     "metadata": {},
     "output_type": "execute_result"
    }
   ],
   "source": [
    "from pandas import json_normalize\n",
    "json_normalize(df_json.articles.iloc[1029])"
   ]
  },
  {
   "cell_type": "code",
   "execution_count": 20,
   "metadata": {},
   "outputs": [],
   "source": []
  }
 ],
 "metadata": {
  "kernelspec": {
   "display_name": "Python 3",
   "language": "python",
   "name": "python3"
  },
  "language_info": {
   "codemirror_mode": {
    "name": "ipython",
    "version": 3
   },
   "file_extension": ".py",
   "mimetype": "text/x-python",
   "name": "python",
   "nbconvert_exporter": "python",
   "pygments_lexer": "ipython3",
   "version": "3.7.7"
  }
 },
 "nbformat": 4,
 "nbformat_minor": 2
}