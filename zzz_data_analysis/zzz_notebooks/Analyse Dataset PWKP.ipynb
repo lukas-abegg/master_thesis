{
 "cells": [
  {
   "cell_type": "code",
   "execution_count": 1,
   "metadata": {},
   "outputs": [],
   "source": [
    "import pandas as pd\n",
    "import os"
   ]
  },
  {
   "cell_type": "code",
   "execution_count": 2,
   "metadata": {},
   "outputs": [
    {
     "name": "stdout",
     "output_type": "stream",
     "text": [
      "Read PWKP article sentences dataset:\n",
      "loaded..........\n"
     ]
    }
   ],
   "source": [
    "pwkp = \"../../data/pwkp\"\n",
    "\n",
    "print(\"Read PWKP article sentences dataset:\")\n",
    "\n",
    "fp_train_src = 'train.src'\n",
    "fp_train_src = os.path.join(pwkp, fp_train_src)\n",
    "df_train_src = pd.read_csv(fp_train_src, sep=\"\\n\", header=None)\n",
    "df_train_src.columns = [\"sentence\"]\n",
    "\n",
    "fp_train_dst = 'train.dst'\n",
    "fp_train_dst = os.path.join(pwkp, fp_train_dst)\n",
    "df_train_dst = pd.read_csv(fp_train_dst, sep=\"\\n\", header=None)\n",
    "df_train_dst.columns = [\"sentence\"]\n",
    "\n",
    "fp_valid_src = 'valid.src'\n",
    "fp_valid_src = os.path.join(pwkp, fp_valid_src)\n",
    "df_valid_src = pd.read_csv(fp_valid_src, sep=\"\\n\", header=None)\n",
    "df_valid_src.columns = [\"sentence\"]\n",
    "\n",
    "fp_valid_dst = 'valid.dst'\n",
    "fp_valid_dst = os.path.join(pwkp, fp_valid_dst)\n",
    "df_valid_dst = pd.read_csv(fp_valid_dst, sep=\"\\n\", header=None)\n",
    "df_valid_dst.columns = [\"sentence\"]\n",
    "\n",
    "fp_test_src = 'test.src'\n",
    "fp_test_src = os.path.join(pwkp, fp_test_src)\n",
    "df_test_src = pd.read_csv(fp_test_src, sep=\"\\n\", header=None)\n",
    "df_test_src.columns = [\"sentence\"]\n",
    "\n",
    "fp_test_dst = 'test.dst'\n",
    "fp_test_dst = os.path.join(pwkp, fp_test_dst)\n",
    "df_test_dst = pd.read_csv(fp_test_dst, sep=\"\\n\", header=None)\n",
    "df_test_dst.columns = [\"sentence\"]\n",
    "\n",
    "print(\"loaded..........\")"
   ]
  },
  {
   "cell_type": "code",
   "execution_count": 3,
   "metadata": {},
   "outputs": [
    {
     "name": "stdout",
     "output_type": "stream",
     "text": [
      "Amount of sentences:\n",
      "....................\n",
      "df_train_src: 88837\n",
      "df_train_dst: 88837\n",
      "df_valid_src: 205\n",
      "df_valid_dst: 205\n",
      "df_test_src: 100\n",
      "df_test_dst: 100\n"
     ]
    }
   ],
   "source": [
    "print(\"Amount of sentences:\")\n",
    "print(\"....................\")\n",
    "print(\"df_train_src:\", len(df_train_src))\n",
    "print(\"df_train_dst:\", len(df_train_dst))\n",
    "print(\"df_valid_src:\", len(df_valid_src))\n",
    "print(\"df_valid_dst:\", len(df_valid_dst))\n",
    "print(\"df_test_src:\", len(df_test_src))\n",
    "print(\"df_test_dst:\", len(df_test_dst))"
   ]
  },
  {
   "cell_type": "code",
   "execution_count": 4,
   "metadata": {},
   "outputs": [],
   "source": [
    "from transformers import BertTokenizer\n",
    "bert_tokenizer = BertTokenizer.from_pretrained(\"bert-base-cased\")"
   ]
  },
  {
   "cell_type": "code",
   "execution_count": 5,
   "metadata": {},
   "outputs": [],
   "source": [
    "import spacy\n",
    "spacy_en = spacy.load('en')\n",
    "\n",
    "def tokenize_en(text):\n",
    "    return [tok.text for tok in spacy_en.tokenizer(text)]"
   ]
  },
  {
   "cell_type": "code",
   "execution_count": 6,
   "metadata": {},
   "outputs": [
    {
     "name": "stdout",
     "output_type": "stream",
     "text": [
      "Tokenize in WordPiece\n",
      "tokenized....................\n"
     ]
    }
   ],
   "source": [
    "print(\"Tokenize in WordPiece\")\n",
    "\n",
    "x1 = df_train_src[\"sentence\"].map(lambda x: bert_tokenizer.tokenize(x))\n",
    "x2 = df_train_dst[\"sentence\"].map(lambda x: bert_tokenizer.tokenize(x))\n",
    "x3 = df_valid_src[\"sentence\"].map(lambda x: bert_tokenizer.tokenize(x))\n",
    "x4 = df_valid_dst[\"sentence\"].map(lambda x: bert_tokenizer.tokenize(x))\n",
    "x5 = df_test_src[\"sentence\"].map(lambda x: bert_tokenizer.tokenize(x))\n",
    "x6 = df_test_dst[\"sentence\"].map(lambda x: bert_tokenizer.tokenize(x))\n",
    "\n",
    "x1_len = x1.map(lambda x: len(x))\n",
    "x2_len = x2.map(lambda x: len(x))\n",
    "x3_len = x3.map(lambda x: len(x))\n",
    "x4_len = x4.map(lambda x: len(x))\n",
    "x5_len = x5.map(lambda x: len(x))\n",
    "x6_len = x6.map(lambda x: len(x))\n",
    "\n",
    "print(\"tokenized....................\")"
   ]
  },
  {
   "cell_type": "code",
   "execution_count": 7,
   "metadata": {},
   "outputs": [
    {
     "name": "stdout",
     "output_type": "stream",
     "text": [
      "Tokenize in Words\n",
      "tokenized....................\n"
     ]
    }
   ],
   "source": [
    "print(\"Tokenize in Words\")\n",
    "\n",
    "w1 = df_train_src[\"sentence\"].map(lambda w: tokenize_en(w))\n",
    "w2 = df_train_dst[\"sentence\"].map(lambda w: tokenize_en(w))\n",
    "w3 = df_valid_src[\"sentence\"].map(lambda w: tokenize_en(w))\n",
    "w4 = df_valid_dst[\"sentence\"].map(lambda w: tokenize_en(w))\n",
    "w5 = df_test_src[\"sentence\"].map(lambda w: tokenize_en(w))\n",
    "w6 = df_test_dst[\"sentence\"].map(lambda w: tokenize_en(w))\n",
    "\n",
    "w1_len = w1.map(lambda w: len(w))\n",
    "w2_len = w2.map(lambda w: len(w))\n",
    "w3_len = w3.map(lambda w: len(w))\n",
    "w4_len = w4.map(lambda w: len(w))\n",
    "w5_len = w5.map(lambda w: len(w))\n",
    "w6_len = w6.map(lambda w: len(w))\n",
    "\n",
    "print(\"tokenized....................\")"
   ]
  },
  {
   "cell_type": "code",
   "execution_count": 8,
   "metadata": {},
   "outputs": [
    {
     "name": "stdout",
     "output_type": "stream",
     "text": [
      "Analyse\n",
      "analysed....................\n"
     ]
    }
   ],
   "source": [
    "print(\"Analyse\")\n",
    "\n",
    "df_src_x = pd.concat([x1_len, x3_len, x5_len])\n",
    "df_dst_x = pd.concat([x2_len, x4_len, x6_len])\n",
    "\n",
    "df_src_w = pd.concat([w1_len, w3_len, w5_len])\n",
    "df_dst_w = pd.concat([w2_len, w4_len, w6_len])\n",
    "\n",
    "df_src_x_99 = df_src_x[df_src_x < df_src_x.quantile(.99)]\n",
    "df_dst_x_99 = df_dst_x[df_dst_x < df_dst_x.quantile(.99)]\n",
    "\n",
    "df_src_w_99 = df_src_w[df_src_w < df_src_w.quantile(.99)]\n",
    "df_dst_w_99 = df_dst_w[df_dst_w < df_dst_w.quantile(.99)]\n",
    "\n",
    "max_df_src_x = df_src_x.max()\n",
    "quantile_75_df_src_x = df_src_x.quantile(.75)\n",
    "quantile_99_df_src_x = df_src_x.quantile(.99)\n",
    "mean_df_src_x = df_src_x_99.mean()\n",
    "\n",
    "max_df_src_w = df_src_w_99.max()\n",
    "quantile_75_df_src_w = df_src_w_99.quantile(.75)\n",
    "quantile_99_df_src_w = df_src_w_99.quantile(.99)\n",
    "mean_df_src_w = df_src_w_99.mean()\n",
    "\n",
    "max_df_dst_x = df_dst_x.max()\n",
    "quantile_75_df_dst_x = df_dst_x.quantile(.75)\n",
    "quantile_99_df_dst_x = df_dst_x.quantile(.99)\n",
    "mean_df_dst_x = df_dst_x_99.mean()\n",
    "\n",
    "max_df_dst_w = df_src_w_99.max()\n",
    "quantile_75_df_dst_w = df_dst_w_99.quantile(.75)\n",
    "quantile_99_df_dst_w = df_dst_w_99.quantile(.99)\n",
    "mean_df_dst_w = df_dst_w_99.mean()\n",
    "\n",
    "print(\"analysed....................\")"
   ]
  },
  {
   "cell_type": "code",
   "execution_count": 9,
   "metadata": {},
   "outputs": [
    {
     "name": "stdout",
     "output_type": "stream",
     "text": [
      "SRC Wordpiece....................\n",
      "max_df_src_x: 228\n",
      "quantile_75_df_src_x: 38.0\n",
      "quantile_99_df_src_x: 76.0\n",
      "mean_df_src_x: 30.13699204496521\n",
      "SRC Word....................\n",
      "max_df_src_w: 54\n",
      "quantile_75_df_src_w: 31.0\n",
      "quantile_99_df_src_w: 51.0\n",
      "mean_df_src_w: 24.600614630937937\n",
      "\n",
      "\n",
      "DST Wordpiece....................\n",
      "max_df_dst_x: 237\n",
      "quantile_75_df_dst_x: 31.0\n",
      "quantile_99_df_dst_x: 67.0\n",
      "mean_df_dst_x: 24.76445573409841\n",
      "DST Word....................\n",
      "max_df_dst_w: 54\n",
      "quantile_75_df_dst_w: 26.0\n",
      "quantile_99_df_dst_w: 44.0\n",
      "mean_df_dst_w: 20.467262039852933\n"
     ]
    }
   ],
   "source": [
    "print(\"SRC Wordpiece....................\")\n",
    "print(\"max_df_src_x:\", max_df_src_x)\n",
    "print(\"quantile_75_df_src_x:\", quantile_75_df_src_x)\n",
    "print(\"quantile_99_df_src_x:\", quantile_99_df_src_x)\n",
    "print(\"mean_df_src_x:\", mean_df_src_x)\n",
    "\n",
    "print(\"SRC Word....................\")\n",
    "print(\"max_df_src_w:\", max_df_src_w)\n",
    "print(\"quantile_75_df_src_w:\", quantile_75_df_src_w)\n",
    "print(\"quantile_99_df_src_w:\", quantile_99_df_src_w)\n",
    "print(\"mean_df_src_w:\", mean_df_src_w)\n",
    "print(\"\\n\")\n",
    "print(\"DST Wordpiece....................\")\n",
    "print(\"max_df_dst_x:\", max_df_dst_x)\n",
    "print(\"quantile_75_df_dst_x:\", quantile_75_df_dst_x)\n",
    "print(\"quantile_99_df_dst_x:\", quantile_99_df_dst_x)\n",
    "print(\"mean_df_dst_x:\", mean_df_dst_x)\n",
    "\n",
    "print(\"DST Word....................\")\n",
    "print(\"max_df_dst_w:\", max_df_dst_w)\n",
    "print(\"quantile_75_df_dst_w:\", quantile_75_df_dst_w)\n",
    "print(\"quantile_99_df_dst_w:\", quantile_99_df_dst_w)\n",
    "print(\"mean_df_dst_w:\", mean_df_dst_w)"
   ]
  },
  {
   "cell_type": "code",
   "execution_count": 10,
   "metadata": {},
   "outputs": [
    {
     "data": {
      "text/plain": [
       "<matplotlib.legend.Legend at 0x7fbd44784210>"
      ]
     },
     "execution_count": 10,
     "metadata": {},
     "output_type": "execute_result"
    },
    {
     "data": {
      "image/png": "[encoded data removed]",
      "text/plain": [
       "<Figure size 1000x600 with 1 Axes>"
      ]
     },
     "metadata": {
      "needs_background": "light"
     },
     "output_type": "display_data"
    }
   ],
   "source": [
    "import matplotlib.pyplot as plt\n",
    "\n",
    "plt.rcParams.update({'figure.figsize':(5,3), 'figure.dpi':200})\n",
    "kwargs = dict(alpha=0.5, bins=100, density=True, stacked=True)\n",
    "\n",
    "# Plot Histogram on x\n",
    "plt.axvline(x=quantile_75_df_src_x,color='lightgreen', label='75th quantile source sequences')\n",
    "plt.axvline(x=quantile_75_df_dst_x,color='violet', label='75th quantile target sequences')\n",
    "plt.hist(df_src_x_99, **kwargs, color='g', label='source sentences')\n",
    "plt.hist(df_dst_x_99, **kwargs, color='b', label='target sequences')\n",
    "plt.gca().set(title='Word Pieces Sequence Length Histogram: PWKP Dataset 99th Quantile', ylabel='Frequency', xlabel=\"Length\");\n",
    "plt.legend(loc='lower left', bbox_to_anchor= (1.1, 0.6), ncol=1,\n",
    "            borderaxespad=0, frameon=False)"
   ]
  },
  {
   "cell_type": "code",
   "execution_count": 11,
   "metadata": {},
   "outputs": [
    {
     "name": "stdout",
     "output_type": "stream",
     "text": [
      "Amount of src/dst 89142\n"
     ]
    }
   ],
   "source": [
    "# merge tokenized sentences Wordpiece\n",
    "df_src_x_tok = pd.concat([x1, x3, x5])\n",
    "df_dst_x_tok = pd.concat([x2, x4, x6])\n",
    "\n",
    "frame = { 'src': df_src_x_tok, 'dst': df_dst_x_tok } \n",
    "df_src_dst_tok = pd.DataFrame(frame) \n",
    "\n",
    "print(\"Amount of src/dst\", len(df_src_dst_tok))"
   ]
  },
  {
   "cell_type": "code",
   "execution_count": 12,
   "metadata": {},
   "outputs": [
    {
     "name": "stdout",
     "output_type": "stream",
     "text": [
      "Amount of src/dst 89142\n"
     ]
    }
   ],
   "source": [
    "# merge tokenized sentences Words\n",
    "df_src_w_tok = pd.concat([w1, w3, w5])\n",
    "df_dst_w_tok = pd.concat([w2, w4, w6])\n",
    "\n",
    "frame = { 'src': df_src_w_tok, 'dst': df_dst_w_tok } \n",
    "df_src_dst_w_tok = pd.DataFrame(frame) \n",
    "\n",
    "print(\"Amount of src/dst\", len(df_src_dst_w_tok))"
   ]
  },
  {
   "cell_type": "code",
   "execution_count": 13,
   "metadata": {},
   "outputs": [
    {
     "name": "stdout",
     "output_type": "stream",
     "text": [
      "quantile_99_df_src_x 76.0\n",
      "quantile_99_df_dst_x 67.0\n",
      "[2955, 7899, 9929, 63462, 70312, 70736, 71482, 72356, 74092, 74244, 75020, 75145, 75900, 76105, 76275, 79414, 80177, 80399, 80739, 80845, 81154, 81164, 81625, 81746, 82225, 82387, 82536, 82554, 82751, 82809, 82865, 83309, 83517, 83665, 83747, 83754, 83891, 84001, 84015, 84149, 84292, 84374, 84418, 84433, 84620, 84674, 84702, 84803, 85023, 85026, 85038, 85053, 85074, 85078, 85221, 85282, 85451, 85635, 85746, 85760, 85822, 85912, 86054, 86208, 86214, 86259, 86273, 86294, 86304, 86336, 86341, 86412, 86563, 86633, 86637, 86679, 86685, 86728, 86739, 86748, 86752, 86825, 86892, 86894, 86923, 86945, 86971, 86972, 86986, 86991, 87032, 87042, 87047, 87156, 87167, 87174, 87196, 87259, 87270, 87289, 87306, 87353, 87384, 87395, 87444, 87445, 87448, 87489, 87490, 87494, 87500, 87508, 87516, 87522, 87533, 87590, 87608, 87623, 87728, 87734, 87740, 87771, 87776, 87777, 87784, 87797, 87801, 87802, 87819, 87841, 87843, 87857, 87871, 87883, 87890, 87897, 87911, 87932, 87947, 88038, 88054, 88056, 88057, 88078, 88081, 88082, 88083, 88085, 88093, 88103, 88106, 88109, 88111, 88135, 88137, 88141, 88142, 88144, 88157, 88160, 88171, 88172, 88186, 88187, 88201, 88208, 88209, 88216, 88218, 88239, 88252, 88256, 88257, 88260, 88269, 88287, 88294, 88296, 88310, 88320, 88328, 88333, 88341, 88353, 88355, 88357, 88359, 88362, 88364, 88365, 88371, 88374, 88378, 88383, 88385, 88386, 88401, 88408, 88418, 88419, 88425, 88433, 88439, 88441, 88443, 88450, 88451, 88456, 88458, 88468, 88471, 88475, 88477, 88478, 88480, 88481, 88483, 88485, 88488, 88495, 88500, 88503, 88504, 88512, 88513, 88516, 88519, 88522, 88530, 88532, 88542, 88550, 88555, 88563, 88564, 88566, 88572, 88575, 88579, 88586, 88588, 88593, 88596, 88600, 88603, 88620, 88622, 88629, 88632, 88640, 88642, 88649, 88656, 88665, 88677, 88682, 88683, 88686, 88687, 88688, 88691, 88693, 88700, 88703, 88704, 88706, 88714, 88715, 88729, 88745, 88753, 88767, 88771, 88774, 88781, 88786, 88800, 88802, 88810, 88820]\n",
      "89142\n",
      "88862\n"
     ]
    }
   ],
   "source": [
    "# remove sentence pairs with over .99 percentile length from WordPiece\n",
    "print(\"quantile_99_df_src_x\", quantile_99_df_src_x)\n",
    "print(\"quantile_99_df_dst_x\", quantile_99_df_dst_x)\n",
    "\n",
    "index_drop = []\n",
    "for index, row in df_src_dst_tok.iterrows():\n",
    "    if len(row.src) > quantile_99_df_src_x and len(row.dst) > quantile_99_df_dst_x:\n",
    "        index_drop.append(index)\n",
    "print(index_drop)\n",
    "print(len(df_src_dst_tok))\n",
    "df_src_dst_tok = df_src_dst_tok.drop(df_src_dst_tok.index[index_drop])\n",
    "print(len(df_src_dst_tok))"
   ]
  },
  {
   "cell_type": "code",
   "execution_count": 14,
   "metadata": {
    "pycharm": {
     "name": "#%%\n"
    }
   },
   "outputs": [
    {
     "name": "stdout",
     "output_type": "stream",
     "text": [
      "89142\n",
      "88862\n"
     ]
    }
   ],
   "source": [
    "print(len(df_src_dst_w_tok))\n",
    "df_src_dst_w_tok = df_src_dst_w_tok.drop(df_src_dst_w_tok.index[index_drop])\n",
    "print(len(df_src_dst_w_tok))"
   ]
  },
  {
   "cell_type": "code",
   "execution_count": 15,
   "metadata": {},
   "outputs": [
    {
     "name": "stdout",
     "output_type": "stream",
     "text": [
      "quantile_99_df_src_x 76.0\n",
      "quantile_99_df_dst_x 67.0\n",
      "[2955, 7899, 9929, 63462, 70312, 70736, 71482, 72356, 74092, 74244, 75020, 75145, 75900, 76105, 76275, 79414, 80177, 80399, 80739, 80845, 81154, 81164, 81625, 81746, 82225, 82387, 82536, 82554, 82751, 82809, 82865, 83309, 83517, 83665, 83747, 83754, 83891, 84001, 84015, 84149, 84292, 84374, 84418, 84433, 84620, 84674, 84702, 84803, 85023, 85026, 85038, 85053, 85074, 85078, 85221, 85282, 85451, 85635, 85746, 85760, 85822, 85912, 86054, 86208, 86214, 86259, 86273, 86294, 86304, 86336, 86341, 86412, 86563, 86633, 86637, 86679, 86685, 86728, 86739, 86748, 86752, 86825, 86892, 86894, 86923, 86945, 86971, 86972, 86986, 86991, 87032, 87042, 87047, 87156, 87167, 87174, 87196, 87259, 87270, 87289, 87306, 87353, 87384, 87395, 87444, 87445, 87448, 87489, 87490, 87494, 87500, 87508, 87516, 87522, 87533, 87590, 87608, 87623, 87728, 87734, 87740, 87771, 87776, 87777, 87784, 87797, 87801, 87802, 87819, 87841, 87843, 87857, 87871, 87883, 87890, 87897, 87911, 87932, 87947, 88038, 88054, 88056, 88057, 88078, 88081, 88082, 88083, 88085, 88093, 88103, 88106, 88109, 88111, 88135, 88137, 88141, 88142, 88144, 88157, 88160, 88171, 88172, 88186, 88187, 88201, 88208, 88209, 88216, 88218, 88239, 88252, 88256, 88257, 88260, 88269, 88287, 88294, 88296, 88310, 88320, 88328, 88333, 88341, 88353, 88355, 88357, 88359, 88362, 88364, 88365, 88371, 88374, 88378, 88383, 88385, 88386, 88401, 88408, 88418, 88419, 88425, 88433, 88439, 88441, 88443, 88450, 88451, 88456, 88458, 88468, 88471, 88475, 88477, 88478, 88480, 88481, 88483, 88485, 88488, 88495, 88500, 88503, 88504, 88512, 88513, 88516, 88519, 88522, 88530, 88532, 88542, 88550, 88555, 88563, 88564, 88566, 88572, 88575, 88579, 88586, 88588, 88593, 88596, 88600, 88603, 88620, 88622, 88629, 88632, 88640, 88642, 88649, 88656, 88665, 88677, 88682, 88683, 88686, 88687, 88688, 88691, 88693, 88700, 88703, 88704, 88706, 88714, 88715, 88729, 88745, 88753, 88767, 88771, 88774, 88781, 88786, 88800, 88802, 88810, 88820]\n",
      "88837\n",
      "88557\n",
      "[]\n",
      "205\n",
      "205\n",
      "[]\n",
      "100\n",
      "100\n"
     ]
    }
   ],
   "source": [
    "# remove sentence pairs with over .99 percentile length from WordPiece for single sets\n",
    "print(\"quantile_99_df_src_x\", quantile_99_df_src_x)\n",
    "print(\"quantile_99_df_dst_x\", quantile_99_df_dst_x)\n",
    "\n",
    "# merge tokenized sentences Wordpiece\n",
    "frame_train = { 'src': x1, 'dst': x2 } \n",
    "df_src_dst_train = pd.DataFrame(frame_train) \n",
    "\n",
    "frame_valid = { 'src': x3, 'dst': x4 } \n",
    "df_src_dst_valid = pd.DataFrame(frame_valid) \n",
    "\n",
    "frame_test = { 'src': x5, 'dst': x6 } \n",
    "df_src_dst_test = pd.DataFrame(frame_test)\n",
    "\n",
    "index_drop = []\n",
    "for index, row in df_src_dst_train.iterrows():\n",
    "    if len(row.src) > quantile_99_df_src_x and len(row.dst) > quantile_99_df_dst_x:\n",
    "        index_drop.append(index)\n",
    "print(index_drop)\n",
    "print(len(df_src_dst_train))\n",
    "df_src_dst_train = df_src_dst_train.drop(df_src_dst_train.index[index_drop])\n",
    "print(len(df_src_dst_train))\n",
    "\n",
    "index_drop = []\n",
    "for index, row in df_src_dst_valid.iterrows():\n",
    "    if len(row.src) > quantile_99_df_src_x and len(row.dst) > quantile_99_df_dst_x:\n",
    "        index_drop.append(index)\n",
    "print(index_drop)\n",
    "print(len(df_src_dst_valid))\n",
    "df_src_dst_valid = df_src_dst_valid.drop(df_src_dst_valid.index[index_drop])\n",
    "print(len(df_src_dst_valid))\n",
    "\n",
    "index_drop = []\n",
    "for index, row in df_src_dst_test.iterrows():\n",
    "    if len(row.src) > quantile_99_df_src_x and len(row.dst) > quantile_99_df_dst_x:\n",
    "        index_drop.append(index)\n",
    "print(index_drop)\n",
    "print(len(df_src_dst_test))\n",
    "df_src_dst_test = df_src_dst_test.drop(df_src_dst_test.index[index_drop])\n",
    "print(len(df_src_dst_test))"
   ]
  },
  {
   "cell_type": "code",
   "execution_count": 16,
   "metadata": {
    "pycharm": {
     "name": "#%%\n"
    }
   },
   "outputs": [
    {
     "name": "stdout",
     "output_type": "stream",
     "text": [
      "Build Vocab of WordPiece\n",
      "88862\n",
      "88862\n",
      "built....................\n",
      "Size of SRC-Vocab: 26396\n",
      "Size of DST-Vocab: 25915\n",
      "Size of merged Vocab: 26499\n"
     ]
    }
   ],
   "source": [
    "print(\"Build Vocab of WordPiece\")\n",
    "\n",
    "# Create an empty dictionary \n",
    "src = dict()\n",
    "dst = dict()\n",
    "\n",
    "def sentence_count(sent, d):\n",
    "    for word in sent: \n",
    "        if word in d:\n",
    "            d[word] = d[word] + 1\n",
    "        else: \n",
    "            d[word] = 1\n",
    "\n",
    "df_src_x_99 = df_src_dst_tok.src\n",
    "df_dst_x_99 = df_src_dst_tok.dst\n",
    "\n",
    "print(len(df_src_x_99))\n",
    "print(len(df_dst_x_99))\n",
    "\n",
    "df_src_x_99.map(lambda x: sentence_count(x, src))\n",
    "df_dst_x_99.map(lambda x: sentence_count(x, dst))\n",
    "  \n",
    "# Merge Dicts\n",
    "merged = {**src, **dst}\n",
    "\n",
    "print(\"built....................\")\n",
    "\n",
    "print(\"Size of SRC-Vocab:\", len(src))\n",
    "print(\"Size of DST-Vocab:\", len(dst))\n",
    "print(\"Size of merged Vocab:\", len(merged))"
   ]
  },
  {
   "cell_type": "code",
   "execution_count": 17,
   "metadata": {
    "pycharm": {
     "name": "#%%\n"
    }
   },
   "outputs": [
    {
     "name": "stdout",
     "output_type": "stream",
     "text": [
      "Build Vocab of Words\n",
      "88862\n",
      "88862\n",
      "built....................\n",
      "Size of SRC-Vocab: 104099\n",
      "Size of DST-Vocab: 86810\n",
      "Size of merged Vocab: 111429\n"
     ]
    }
   ],
   "source": [
    "print(\"Build Vocab of Words\")\n",
    "\n",
    "# Create an empty dictionary \n",
    "src_w = dict()\n",
    "dst_w = dict()\n",
    "\n",
    "def sentence_count(sent, d):\n",
    "    for word in sent: \n",
    "        if word in d:\n",
    "            d[word] = d[word] + 1\n",
    "        else: \n",
    "            d[word] = 1\n",
    "\n",
    "df_src_w_99 = df_src_dst_w_tok.src\n",
    "df_dst_w_99 = df_src_dst_w_tok.dst\n",
    "\n",
    "print(len(df_src_w_99))\n",
    "print(len(df_dst_w_99))\n",
    "\n",
    "df_src_w_99.map(lambda w: sentence_count(w, src_w))\n",
    "df_dst_w_99.map(lambda w: sentence_count(w, dst_w))\n",
    "  \n",
    "# Merge Dicts\n",
    "merged_w = {**src_w, **dst_w}\n",
    "\n",
    "print(\"built....................\")\n",
    "\n",
    "print(\"Size of SRC-Vocab:\", len(src_w))\n",
    "print(\"Size of DST-Vocab:\", len(dst_w))\n",
    "print(\"Size of merged Vocab:\", len(merged_w))"
   ]
  },
  {
   "cell_type": "code",
   "execution_count": 18,
   "metadata": {},
   "outputs": [
    {
     "name": "stdout",
     "output_type": "stream",
     "text": [
      "Analyse Vocab\n",
      "analysed....................\n"
     ]
    }
   ],
   "source": [
    "print(\"Analyse Vocab\")\n",
    "\n",
    "v_merged_data = list(merged.values())\n",
    "v_df_merged_x = pd.DataFrame(v_merged_data) \n",
    "\n",
    "v_merged_w_data = list(merged_w.values())\n",
    "v_df_merged_w = pd.DataFrame(v_merged_w_data) \n",
    "\n",
    "\n",
    "max_df_merged_x = v_df_merged_x.max()\n",
    "quantile_75_df_merged_x = v_df_merged_x.quantile(.75)\n",
    "mean_df_merged_x = v_df_merged_x.mean()\n",
    "\n",
    "max_df_merged_w = v_df_merged_w.max()\n",
    "quantile_75_df_merged_w = v_df_merged_w.quantile(.75)\n",
    "mean_df_merged_w = v_df_merged_w.mean()\n",
    "\n",
    "print(\"analysed....................\")"
   ]
  },
  {
   "cell_type": "code",
   "execution_count": 19,
   "metadata": {},
   "outputs": [
    {
     "name": "stdout",
     "output_type": "stream",
     "text": [
      "Analyse Vocab\n",
      "analysed....................\n"
     ]
    }
   ],
   "source": [
    "print(\"Analyse Vocab\")\n",
    "\n",
    "v_merged_data = list(merged.values())\n",
    "v_df_merged_x = pd.DataFrame(v_merged_data) \n",
    "\n",
    "v_merged_w_data = list(merged_w.values())\n",
    "v_df_merged_w = pd.DataFrame(v_merged_w_data) \n",
    "\n",
    "\n",
    "max_df_merged_x = v_df_merged_x.max()\n",
    "quantile_75_df_merged_x = v_df_merged_x.quantile(.75)\n",
    "mean_df_merged_x = v_df_merged_x.mean()\n",
    "\n",
    "max_df_merged_w = v_df_merged_w.max()\n",
    "quantile_75_df_merged_w = v_df_merged_w.quantile(.75)\n",
    "mean_df_merged_w = v_df_merged_w.mean()\n",
    "\n",
    "print(\"analysed....................\")"
   ]
  },
  {
   "cell_type": "code",
   "execution_count": 20,
   "metadata": {},
   "outputs": [
    {
     "name": "stdout",
     "output_type": "stream",
     "text": [
      "WordPiece Vocab..............\n",
      "max_df_merged_x 0    102668\n",
      "dtype: int64\n",
      "quantile_75_df_merged_x 0    34.0\n",
      "Name: 0.75, dtype: float64\n",
      "mean_df_merged_x 0    84.406581\n",
      "dtype: float64\n",
      "Word Vocab..............\n",
      "max_df_merged_w 0    100534\n",
      "dtype: int64\n",
      "quantile_75_df_merged_w 0    3.0\n",
      "Name: 0.75, dtype: float64\n",
      "mean_df_merged_w 0    16.831552\n",
      "dtype: float64\n"
     ]
    }
   ],
   "source": [
    "print(\"WordPiece Vocab..............\")\n",
    "print(\"max_df_merged_x\", max_df_merged_x)\n",
    "print(\"quantile_75_df_merged_x\", quantile_75_df_merged_x)\n",
    "print(\"mean_df_merged_x\", mean_df_merged_x)\n",
    "\n",
    "print(\"Word Vocab..............\")\n",
    "print(\"max_df_merged_w\", max_df_merged_w)\n",
    "print(\"quantile_75_df_merged_w\", quantile_75_df_merged_w)\n",
    "print(\"mean_df_merged_w\", mean_df_merged_w)"
   ]
  },
  {
   "cell_type": "code",
   "execution_count": 21,
   "metadata": {},
   "outputs": [
    {
     "data": {
      "text/plain": [
       "0    2236690\n",
       "dtype: int64"
      ]
     },
     "execution_count": 21,
     "metadata": {},
     "output_type": "execute_result"
    }
   ],
   "source": [
    "v_df_merged_x.sum()"
   ]
  },
  {
   "cell_type": "code",
   "execution_count": 22,
   "metadata": {},
   "outputs": [
    {
     "data": {
      "text/plain": [
       "0    1875523\n",
       "dtype: int64"
      ]
     },
     "execution_count": 22,
     "metadata": {},
     "output_type": "execute_result"
    }
   ],
   "source": [
    "v_df_merged_w.sum()"
   ]
  },
  {
   "cell_type": "code",
   "execution_count": null,
   "metadata": {},
   "outputs": [],
   "source": []
  },
  {
   "cell_type": "code",
   "execution_count": null,
   "metadata": {},
   "outputs": [],
   "source": []
  }
 ],
 "metadata": {
  "kernelspec": {
   "display_name": "Python 3",
   "language": "python",
   "name": "python3"
  },
  "language_info": {
   "codemirror_mode": {
    "name": "ipython",
    "version": 3
   },
   "file_extension": ".py",
   "mimetype": "text/x-python",
   "name": "python",
   "nbconvert_exporter": "python",
   "pygments_lexer": "ipython3",
   "version": "3.7.7"
  }
 },
 "nbformat": 4,
 "nbformat_minor": 4
}
