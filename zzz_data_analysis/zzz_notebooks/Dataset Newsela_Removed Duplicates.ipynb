{
 "cells": [
  {
   "cell_type": "code",
   "execution_count": 1,
   "metadata": {},
   "outputs": [],
   "source": [
    "import pandas as pd\n",
    "import os"
   ]
  },
  {
   "cell_type": "code",
   "execution_count": 2,
   "metadata": {},
   "outputs": [
    {
     "name": "stdout",
     "output_type": "stream",
     "text": [
      "Read Newsela article sentences dataset:\n",
      "loaded..........\n"
     ]
    }
   ],
   "source": [
    "mws = \"../data/newsela\"\n",
    "\n",
    "print(\"Read Newsela article sentences dataset:\")\n",
    "\n",
    "fp_train_src = 'train.src'\n",
    "fp_train_src = os.path.join(mws, fp_train_src)\n",
    "df_train_src = pd.read_csv(fp_train_src, header=None, sep='\\n')\n",
    "df_train_src.columns = [\"sentence\"]\n",
    "\n",
    "fp_train_dst = 'train.dst'\n",
    "fp_train_dst = os.path.join(mws, fp_train_dst)\n",
    "df_train_dst = pd.read_csv(fp_train_dst, header=None, sep='\\n')\n",
    "df_train_dst.columns = [\"sentence\"]\n",
    "\n",
    "fp_valid_src = 'valid.src'\n",
    "fp_valid_src = os.path.join(mws, fp_valid_src)\n",
    "df_valid_src = pd.read_csv(fp_valid_src, header=None, sep='\\n')\n",
    "df_valid_src.columns = [\"sentence\"]\n",
    "\n",
    "fp_valid_dst = 'valid.dst'\n",
    "fp_valid_dst = os.path.join(mws, fp_valid_dst)\n",
    "df_valid_dst = pd.read_csv(fp_valid_dst, header=None, sep='\\n')\n",
    "df_valid_dst.columns = [\"sentence\"]\n",
    "\n",
    "fp_test_src = 'test.src'\n",
    "fp_test_src = os.path.join(mws, fp_test_src)\n",
    "df_test_src = pd.read_csv(fp_test_src, header=None, sep='\\n')\n",
    "df_test_src.columns = [\"sentence\"]\n",
    "\n",
    "fp_test_dst = 'test.dst'\n",
    "fp_test_dst = os.path.join(mws, fp_test_dst)\n",
    "df_test_dst = pd.read_csv(fp_test_dst, header=None, sep='\\n')\n",
    "df_test_dst.columns = [\"sentence\"]\n",
    "\n",
    "print(\"loaded..........\")"
   ]
  },
  {
   "cell_type": "code",
   "execution_count": 3,
   "metadata": {},
   "outputs": [
    {
     "data": {
      "text/plain": [
       "0        False\n",
       "1        False\n",
       "2        False\n",
       "3        False\n",
       "4        False\n",
       "         ...  \n",
       "94203    False\n",
       "94204     True\n",
       "94205    False\n",
       "94206     True\n",
       "94207     True\n",
       "Length: 94208, dtype: bool"
      ]
     },
     "execution_count": 3,
     "metadata": {},
     "output_type": "execute_result"
    }
   ],
   "source": [
    "df_train_src.duplicated()"
   ]
  },
  {
   "cell_type": "code",
   "execution_count": null,
   "metadata": {
    "pycharm": {
     "name": "#%%\n"
    }
   },
   "outputs": [],
   "source": [
    "dups_color_and_shape = df_train_src.pivot_table(index=['sentence'], aggfunc='size')\n",
    "print (dups_color_and_shape)"
   ]
  },
  {
   "cell_type": "code",
   "execution_count": 5,
   "metadata": {},
   "outputs": [
    {
     "name": "stdout",
     "output_type": "stream",
     "text": [
      "sentence\n",
      "! -LSB- -RSB- CHICAGO -- Silver has long been known for its ability to kill germs that can make people sick .                                                                                       1\n",
      "! -LSB- -RSB- LOS ANGELES -- For years , Spurgeon Intermediate School has ranked as one of the lowest-performing schools in Orange County , Calif .                                                 1\n",
      "! -LSB- -RSB- LOS ANGELES -- Spurgeon Intermediate School sits in the center of one of the poorest areas in Orange County , Calif .                                                                 2\n",
      "! -LSB- -RSB- WASHINGTON -- Population growth in Southern and Western states accounted for more than 80 percent of new residents nationwide over the last three years .                             1\n",
      "! -LSB- -RSB- Working with a group of students in California , bathroom product company Kohler is aiding an effort to reinvent the toilet .                                                         1\n",
      "                                                                                                                                                                                                   ..\n",
      "nation , isolates infected patients from other areas of the hospital .                                                                                                                              1\n",
      "reading scores from the National Assessment of Educational Progress , also known as the Nation 's Report Card , to compare fourth-graders in 2013 and 2003 .                                        3\n",
      "rover 's radiation exposure on its way to Mars , which took more than eight months , found that the round-trip journey could potentially exceed the currently acceptable limits for astronauts .    1\n",
      "success , actually -- to learning to read and perform basic math at                                                                                                                                 2\n",
      "water from the ocean will flow into the delta .                                                                                                                                                     1\n",
      "Length: 54802, dtype: int64\n"
     ]
    }
   ],
   "source": []
  }
 ],
 "metadata": {
  "kernelspec": {
   "display_name": "Python 3",
   "language": "python",
   "name": "python3"
  },
  "language_info": {
   "codemirror_mode": {
    "name": "ipython",
    "version": 3
   },
   "file_extension": ".py",
   "mimetype": "text/x-python",
   "name": "python",
   "nbconvert_exporter": "python",
   "pygments_lexer": "ipython3",
   "version": "3.7.7"
  }
 },
 "nbformat": 4,
 "nbformat_minor": 4
}
