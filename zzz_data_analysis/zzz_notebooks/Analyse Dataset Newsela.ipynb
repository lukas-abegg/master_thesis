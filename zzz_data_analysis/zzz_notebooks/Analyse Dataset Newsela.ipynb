{
 "cells": [
  {
   "cell_type": "code",
   "execution_count": 1,
   "metadata": {},
   "outputs": [],
   "source": [
    "import pandas as pd\n",
    "import os"
   ]
  },
  {
   "cell_type": "code",
   "execution_count": 2,
   "metadata": {},
   "outputs": [
    {
     "name": "stdout",
     "output_type": "stream",
     "text": [
      "Read Newsela article sentences dataset:\n",
      "loaded..........\n"
     ]
    }
   ],
   "source": [
    "mws = \"../data/newsela\"\n",
    "\n",
    "print(\"Read Newsela article sentences dataset:\")\n",
    "\n",
    "fp_train_src = 'train.src'\n",
    "fp_train_src = os.path.join(mws, fp_train_src)\n",
    "df_train_src = pd.read_csv(fp_train_src, header=None, sep='\\n')\n",
    "df_train_src.columns = [\"sentence\"]\n",
    "\n",
    "fp_train_dst = 'train.dst'\n",
    "fp_train_dst = os.path.join(mws, fp_train_dst)\n",
    "df_train_dst = pd.read_csv(fp_train_dst, header=None, sep='\\n')\n",
    "df_train_dst.columns = [\"sentence\"]\n",
    "\n",
    "fp_valid_src = 'valid.src'\n",
    "fp_valid_src = os.path.join(mws, fp_valid_src)\n",
    "df_valid_src = pd.read_csv(fp_valid_src, header=None, sep='\\n')\n",
    "df_valid_src.columns = [\"sentence\"]\n",
    "\n",
    "fp_valid_dst = 'valid.dst'\n",
    "fp_valid_dst = os.path.join(mws, fp_valid_dst)\n",
    "df_valid_dst = pd.read_csv(fp_valid_dst, header=None, sep='\\n')\n",
    "df_valid_dst.columns = [\"sentence\"]\n",
    "\n",
    "fp_test_src = 'test.src'\n",
    "fp_test_src = os.path.join(mws, fp_test_src)\n",
    "df_test_src = pd.read_csv(fp_test_src, header=None, sep='\\n')\n",
    "df_test_src.columns = [\"sentence\"]\n",
    "\n",
    "fp_test_dst = 'test.dst'\n",
    "fp_test_dst = os.path.join(mws, fp_test_dst)\n",
    "df_test_dst = pd.read_csv(fp_test_dst, header=None, sep='\\n')\n",
    "df_test_dst.columns = [\"sentence\"]\n",
    "\n",
    "print(\"loaded..........\")"
   ]
  },
  {
   "cell_type": "code",
   "execution_count": 3,
   "metadata": {},
   "outputs": [
    {
     "name": "stdout",
     "output_type": "stream",
     "text": [
      "Amount of sentences:\n",
      "....................\n",
      "df_train_src: 94208\n",
      "df_train_dst: 94208\n",
      "df_valid_src: 1129\n",
      "df_valid_dst: 1129\n",
      "df_test_src: 1077\n",
      "df_test_dst: 1077\n"
     ]
    }
   ],
   "source": [
    "print(\"Amount of sentences:\")\n",
    "print(\"....................\")\n",
    "print(\"df_train_src:\", len(df_train_src))\n",
    "print(\"df_train_dst:\", len(df_train_dst))\n",
    "print(\"df_valid_src:\", len(df_valid_src))\n",
    "print(\"df_valid_dst:\", len(df_valid_dst))\n",
    "print(\"df_test_src:\", len(df_test_src))\n",
    "print(\"df_test_dst:\", len(df_test_dst))"
   ]
  },
  {
   "cell_type": "code",
   "execution_count": null,
   "metadata": {},
   "outputs": [],
   "source": [
    "from transformers import BertTokenizer\n",
    "bert_tokenizer = BertTokenizer.from_pretrained(\"bert-base-cased\")"
   ]
  },
  {
   "cell_type": "code",
   "execution_count": null,
   "metadata": {},
   "outputs": [],
   "source": [
    "import spacy\n",
    "spacy_en = spacy.load('en')\n",
    "\n",
    "def tokenize_en(text):\n",
    "    return [tok.text for tok in spacy_en.tokenizer(text)]"
   ]
  },
  {
   "cell_type": "code",
   "execution_count": 80,
   "metadata": {},
   "outputs": [
    {
     "name": "stdout",
     "output_type": "stream",
     "text": [
      "Tokenize in WordPiece\n",
      "tokenized....................\n"
     ]
    }
   ],
   "source": [
    "print(\"Tokenize in WordPiece\")\n",
    "\n",
    "x1 = df_train_src[\"sentence\"].map(lambda x: bert_tokenizer.tokenize(x))\n",
    "x2 = df_train_dst[\"sentence\"].map(lambda x: bert_tokenizer.tokenize(x))\n",
    "x3 = df_valid_src[\"sentence\"].map(lambda x: bert_tokenizer.tokenize(x))\n",
    "x4 = df_valid_dst[\"sentence\"].map(lambda x: bert_tokenizer.tokenize(x))\n",
    "x5 = df_test_src[\"sentence\"].map(lambda x: bert_tokenizer.tokenize(x))\n",
    "x6 = df_test_dst[\"sentence\"].map(lambda x: bert_tokenizer.tokenize(x))\n",
    "\n",
    "x1_len = x1.map(lambda x: len(x))\n",
    "x2_len = x2.map(lambda x: len(x))\n",
    "x3_len = x3.map(lambda x: len(x))\n",
    "x4_len = x4.map(lambda x: len(x))\n",
    "x5_len = x5.map(lambda x: len(x))\n",
    "x6_len = x6.map(lambda x: len(x))\n",
    "\n",
    "print(\"tokenized....................\")"
   ]
  },
  {
   "cell_type": "code",
   "execution_count": 81,
   "metadata": {},
   "outputs": [
    {
     "name": "stdout",
     "output_type": "stream",
     "text": [
      "Tokenize in Words\n",
      "tokenized....................\n"
     ]
    }
   ],
   "source": [
    "print(\"Tokenize in Words\")\n",
    "\n",
    "w1 = df_train_src[\"sentence\"].map(lambda w: tokenize_en(w))\n",
    "w2 = df_train_dst[\"sentence\"].map(lambda w: tokenize_en(w))\n",
    "w3 = df_valid_src[\"sentence\"].map(lambda w: tokenize_en(w))\n",
    "w4 = df_valid_dst[\"sentence\"].map(lambda w: tokenize_en(w))\n",
    "w5 = df_test_src[\"sentence\"].map(lambda w: tokenize_en(w))\n",
    "w6 = df_test_dst[\"sentence\"].map(lambda w: tokenize_en(w))\n",
    "\n",
    "w1_len = w1.map(lambda w: len(w))\n",
    "w2_len = w2.map(lambda w: len(w))\n",
    "w3_len = w3.map(lambda w: len(w))\n",
    "w4_len = w4.map(lambda w: len(w))\n",
    "w5_len = w5.map(lambda w: len(w))\n",
    "w6_len = w6.map(lambda w: len(w))\n",
    "\n",
    "print(\"tokenized....................\")"
   ]
  },
  {
   "cell_type": "code",
   "execution_count": 82,
   "metadata": {},
   "outputs": [
    {
     "name": "stdout",
     "output_type": "stream",
     "text": [
      "Analyse\n",
      "analysed....................\n"
     ]
    }
   ],
   "source": [
    "print(\"Analyse\")\n",
    "\n",
    "df_src_x = pd.concat([x1_len, x3_len, x5_len])\n",
    "df_dst_x = pd.concat([x2_len, x4_len, x6_len])\n",
    "\n",
    "df_src_w = pd.concat([w1_len, w3_len, w5_len])\n",
    "df_dst_w = pd.concat([w2_len, w4_len, w6_len])\n",
    "\n",
    "df_src_x_99 = df_src_x[df_src_x < df_src_x.quantile(.99)]\n",
    "df_dst_x_99 = df_dst_x[df_dst_x < df_dst_x.quantile(.99)]\n",
    "\n",
    "df_src_w_99 = df_src_w[df_src_w < df_src_w.quantile(.99)]\n",
    "df_dst_w_99 = df_dst_w[df_dst_w < df_dst_w.quantile(.99)]\n",
    "\n",
    "max_df_src_x = df_src_x.max()\n",
    "quantile_75_df_src_x = df_src_x.quantile(.75)\n",
    "quantile_99_df_src_x = df_src_x.quantile(.99)\n",
    "mean_df_src_x = df_src_x_99.mean()\n",
    "\n",
    "max_df_src_w = df_src_w_99.max()\n",
    "quantile_75_df_src_w = df_src_w_99.quantile(.75)\n",
    "quantile_99_df_src_w = df_src_w_99.quantile(.99)\n",
    "mean_df_src_w = df_src_w_99.mean()\n",
    "\n",
    "max_df_dst_x = df_dst_x.max()\n",
    "quantile_75_df_dst_x = df_dst_x.quantile(.75)\n",
    "quantile_99_df_dst_x = df_dst_x.quantile(.99)\n",
    "mean_df_dst_x = df_dst_x_99.mean()\n",
    "\n",
    "max_df_dst_w = df_src_w_99.max()\n",
    "quantile_75_df_dst_w = df_dst_w_99.quantile(.75)\n",
    "quantile_99_df_dst_w = df_dst_w_99.quantile(.99)\n",
    "mean_df_dst_w = df_dst_w_99.mean()\n",
    "\n",
    "print(\"analysed....................\")"
   ]
  },
  {
   "cell_type": "code",
   "execution_count": 83,
   "metadata": {},
   "outputs": [
    {
     "name": "stdout",
     "output_type": "stream",
     "text": [
      "SRC Wordpiece....................\n",
      "max_df_src_x: 150\n",
      "quantile_75_df_src_x: 38.0\n",
      "quantile_99_df_src_x: 70.0\n",
      "mean_df_src_x: 29.577514383626244\n",
      "SRC Word....................\n",
      "max_df_src_w: 58\n",
      "quantile_75_df_src_w: 33.0\n",
      "quantile_99_df_src_w: 54.0\n",
      "mean_df_src_w: 25.968309527053226\n",
      "\n",
      "\n",
      "DST Wordpiece....................\n",
      "max_df_dst_x: 84\n",
      "quantile_75_df_dst_x: 22.0\n",
      "quantile_99_df_dst_x: 41.0\n",
      "mean_df_dst_x: 17.5788943563702\n",
      "DST Word....................\n",
      "max_df_dst_w: 58\n",
      "quantile_75_df_dst_w: 19.0\n",
      "quantile_99_df_dst_w: 32.0\n",
      "mean_df_dst_w: 15.764741698772793\n"
     ]
    }
   ],
   "source": [
    "print(\"SRC Wordpiece....................\")\n",
    "print(\"max_df_src_x:\", max_df_src_x)\n",
    "print(\"quantile_75_df_src_x:\", quantile_75_df_src_x)\n",
    "print(\"quantile_99_df_src_x:\", quantile_99_df_src_x)\n",
    "print(\"mean_df_src_x:\", mean_df_src_x)\n",
    "\n",
    "print(\"SRC Word....................\")\n",
    "print(\"max_df_src_w:\", max_df_src_w)\n",
    "print(\"quantile_75_df_src_w:\", quantile_75_df_src_w)\n",
    "print(\"quantile_99_df_src_w:\", quantile_99_df_src_w)\n",
    "print(\"mean_df_src_w:\", mean_df_src_w)\n",
    "print(\"\\n\")\n",
    "print(\"DST Wordpiece....................\")\n",
    "print(\"max_df_dst_x:\", max_df_dst_x)\n",
    "print(\"quantile_75_df_dst_x:\", quantile_75_df_dst_x)\n",
    "print(\"quantile_99_df_dst_x:\", quantile_99_df_dst_x)\n",
    "print(\"mean_df_dst_x:\", mean_df_dst_x)\n",
    "\n",
    "print(\"DST Word....................\")\n",
    "print(\"max_df_dst_w:\", max_df_dst_w)\n",
    "print(\"quantile_75_df_dst_w:\", quantile_75_df_dst_w)\n",
    "print(\"quantile_99_df_dst_w:\", quantile_99_df_dst_w)\n",
    "print(\"mean_df_dst_w:\", mean_df_dst_w)"
   ]
  },
  {
   "cell_type": "code",
   "execution_count": 87,
   "metadata": {},
   "outputs": [
    {
     "data": {
      "text/plain": [
       "<matplotlib.legend.Legend at 0x7feda0b44c50>"
      ]
     },
     "execution_count": 87,
     "metadata": {},
     "output_type": "execute_result"
    },
    {
     "data": {
      "image/png": "[encoded data removed]",
      "text/plain": [
       "<Figure size 1000x600 with 1 Axes>"
      ]
     },
     "metadata": {
      "needs_background": "light"
     },
     "output_type": "display_data"
    }
   ],
   "source": [
    "import matplotlib.pyplot as plt\n",
    "\n",
    "plt.rcParams.update({'figure.figsize':(5,3), 'figure.dpi':200})\n",
    "kwargs = dict(alpha=0.5, bins=100, density=True, stacked=True)\n",
    "\n",
    "# Plot Histogram on x\n",
    "plt.axvline(x=quantile_75_df_src_x,color='lightgreen', label='75th quantile source sequences')\n",
    "plt.axvline(x=quantile_75_df_dst_x,color='violet', label='75th quantile target sequences')\n",
    "plt.hist(df_src_x_99, **kwargs, color='g', label='source sequences')\n",
    "plt.hist(df_dst_x_99, **kwargs, color='b', label='target sequences')\n",
    "plt.gca().set(title='Word Pieces Sequence Length Histogram: Newsela Dataset 99th Quantile', ylabel='Frequency', xlabel=\"Length\");\n",
    "plt.legend(loc='lower left', bbox_to_anchor= (1.1, 0.6), ncol=1,\n",
    "            borderaxespad=0, frameon=False)"
   ]
  },
  {
   "cell_type": "code",
   "execution_count": 53,
   "metadata": {},
   "outputs": [
    {
     "name": "stdout",
     "output_type": "stream",
     "text": [
      "Amount of src/dst 96414\n"
     ]
    }
   ],
   "source": [
    "# merge tokenized sentences Wordpiece\n",
    "df_src_x_tok = pd.concat([x1, x3, x5])\n",
    "df_dst_x_tok = pd.concat([x2, x4, x6])\n",
    "\n",
    "frame = { 'src': df_src_x_tok, 'dst': df_dst_x_tok } \n",
    "df_src_dst_tok = pd.DataFrame(frame) \n",
    "\n",
    "print(\"Amount of src/dst\", len(df_src_dst_tok))"
   ]
  },
  {
   "cell_type": "code",
   "execution_count": 54,
   "metadata": {},
   "outputs": [
    {
     "name": "stdout",
     "output_type": "stream",
     "text": [
      "Amount of src/dst 96414\n"
     ]
    }
   ],
   "source": [
    "# merge tokenized sentences Words\n",
    "df_src_w_tok = pd.concat([w1, w3, w5])\n",
    "df_dst_w_tok = pd.concat([w2, w4, w6])\n",
    "\n",
    "frame = { 'src': df_src_w_tok, 'dst': df_dst_w_tok } \n",
    "df_src_dst_w_tok = pd.DataFrame(frame) \n",
    "\n",
    "print(\"Amount of src/dst\", len(df_src_dst_w_tok))"
   ]
  },
  {
   "cell_type": "code",
   "execution_count": 55,
   "metadata": {},
   "outputs": [
    {
     "name": "stdout",
     "output_type": "stream",
     "text": [
      "quantile_99_df_src_x 70.0\n",
      "quantile_99_df_dst_x 41.0\n",
      "[75323, 80965, 82524, 82848, 82853, 82855, 84516, 84533, 86179, 86186, 89164, 89860, 89922, 90186, 90725, 90727, 90755, 91640, 91878, 91898, 91942, 92183, 92266, 92472, 92542, 92547, 92550, 92652, 92756, 92857, 92941, 92969, 92977, 93055, 93108, 93136, 93139, 93270, 93274, 93361, 93366, 93376, 93452, 93460, 93464, 93529, 93553, 93595, 93610, 93696, 93715, 93727, 93855, 93870, 93883, 93889, 93905, 93906, 93927, 93997, 94023, 94047, 94065, 94069, 94075, 94084, 94096, 94097, 94117, 94118, 94120, 94133, 94152, 94167, 94181, 94182, 94199, 94203, 94207]\n",
      "96414\n",
      "96335\n"
     ]
    }
   ],
   "source": [
    "# remove sentence pairs with over .99 percentile length from WordPiece\n",
    "print(\"quantile_99_df_src_x\", quantile_99_df_src_x)\n",
    "print(\"quantile_99_df_dst_x\", quantile_99_df_dst_x)\n",
    "\n",
    "index_drop = []\n",
    "for index, row in df_src_dst_tok.iterrows():\n",
    "    if len(row.src) > quantile_99_df_src_x and len(row.dst) > quantile_99_df_dst_x:\n",
    "        index_drop.append(index)\n",
    "print(index_drop)\n",
    "print(len(df_src_dst_tok))\n",
    "df_src_dst_tok = df_src_dst_tok.drop(df_src_dst_tok.index[index_drop])\n",
    "print(len(df_src_dst_tok))"
   ]
  },
  {
   "cell_type": "code",
   "execution_count": 56,
   "metadata": {},
   "outputs": [
    {
     "name": "stdout",
     "output_type": "stream",
     "text": [
      "96414\n",
      "96335\n"
     ]
    }
   ],
   "source": [
    "print(len(df_src_dst_w_tok))\n",
    "df_src_dst_w_tok = df_src_dst_w_tok.drop(df_src_dst_w_tok.index[index_drop])\n",
    "print(len(df_src_dst_w_tok))"
   ]
  },
  {
   "cell_type": "code",
   "execution_count": 57,
   "metadata": {},
   "outputs": [
    {
     "name": "stdout",
     "output_type": "stream",
     "text": [
      "quantile_99_df_src_x 70.0\n",
      "quantile_99_df_dst_x 41.0\n",
      "[75323, 80965, 82524, 82848, 82853, 82855, 84516, 84533, 86179, 86186, 89164, 89860, 89922, 90186, 90725, 90727, 90755, 91640, 91878, 91898, 91942, 92183, 92266, 92472, 92542, 92547, 92550, 92652, 92756, 92857, 92941, 92969, 92977, 93055, 93108, 93136, 93139, 93270, 93274, 93361, 93366, 93376, 93452, 93460, 93464, 93529, 93553, 93595, 93610, 93696, 93715, 93727, 93855, 93870, 93883, 93889, 93905, 93906, 93927, 93997, 94023, 94047, 94065, 94069, 94075, 94084, 94096, 94097, 94117, 94118, 94120, 94133, 94152, 94167, 94181, 94182, 94199, 94203, 94207]\n",
      "94208\n",
      "94129\n",
      "[]\n",
      "1129\n",
      "1129\n",
      "[]\n",
      "1077\n",
      "1077\n"
     ]
    }
   ],
   "source": [
    "# remove sentence pairs with over .99 percentile length from WordPiece for single sets\n",
    "print(\"quantile_99_df_src_x\", quantile_99_df_src_x)\n",
    "print(\"quantile_99_df_dst_x\", quantile_99_df_dst_x)\n",
    "\n",
    "# merge tokenized sentences Wordpiece\n",
    "frame_train = { 'src': x1, 'dst': x2 } \n",
    "df_src_dst_train = pd.DataFrame(frame_train) \n",
    "\n",
    "frame_valid = { 'src': x3, 'dst': x4 } \n",
    "df_src_dst_valid = pd.DataFrame(frame_valid) \n",
    "\n",
    "frame_test = { 'src': x5, 'dst': x6 } \n",
    "df_src_dst_test = pd.DataFrame(frame_test)\n",
    "\n",
    "index_drop = []\n",
    "for index, row in df_src_dst_train.iterrows():\n",
    "    if len(row.src) > quantile_99_df_src_x and len(row.dst) > quantile_99_df_dst_x:\n",
    "        index_drop.append(index)\n",
    "print(index_drop)\n",
    "print(len(df_src_dst_train))\n",
    "df_src_dst_train = df_src_dst_train.drop(df_src_dst_train.index[index_drop])\n",
    "print(len(df_src_dst_train))\n",
    "\n",
    "index_drop = []\n",
    "for index, row in df_src_dst_valid.iterrows():\n",
    "    if len(row.src) > quantile_99_df_src_x and len(row.dst) > quantile_99_df_dst_x:\n",
    "        index_drop.append(index)\n",
    "print(index_drop)\n",
    "print(len(df_src_dst_valid))\n",
    "df_src_dst_valid = df_src_dst_valid.drop(df_src_dst_valid.index[index_drop])\n",
    "print(len(df_src_dst_valid))\n",
    "\n",
    "index_drop = []\n",
    "for index, row in df_src_dst_test.iterrows():\n",
    "    if len(row.src) > quantile_99_df_src_x and len(row.dst) > quantile_99_df_dst_x:\n",
    "        index_drop.append(index)\n",
    "print(index_drop)\n",
    "print(len(df_src_dst_test))\n",
    "df_src_dst_test = df_src_dst_test.drop(df_src_dst_test.index[index_drop])\n",
    "print(len(df_src_dst_test))"
   ]
  },
  {
   "cell_type": "code",
   "execution_count": 58,
   "metadata": {},
   "outputs": [
    {
     "name": "stdout",
     "output_type": "stream",
     "text": [
      "Build Vocab of WordPiece\n",
      "96335\n",
      "96335\n",
      "built....................\n",
      "Size of SRC-Vocab: 22100\n",
      "Size of DST-Vocab: 19344\n",
      "Size of merged Vocab: 22264\n"
     ]
    }
   ],
   "source": [
    "print(\"Build Vocab of WordPiece\")\n",
    "\n",
    "# Create an empty dictionary \n",
    "src = dict()\n",
    "dst = dict()\n",
    "\n",
    "def sentence_count(sent, d):\n",
    "    for word in sent: \n",
    "        if word in d:\n",
    "            d[word] = d[word] + 1\n",
    "        else: \n",
    "            d[word] = 1\n",
    "\n",
    "df_src_x_99 = df_src_dst_tok.src\n",
    "df_dst_x_99 = df_src_dst_tok.dst\n",
    "\n",
    "print(len(df_src_x_99))\n",
    "print(len(df_dst_x_99))\n",
    "\n",
    "df_src_x_99.map(lambda x: sentence_count(x, src))\n",
    "df_dst_x_99.map(lambda x: sentence_count(x, dst))\n",
    "  \n",
    "# Merge Dicts\n",
    "merged = {**src, **dst}\n",
    "\n",
    "print(\"built....................\")\n",
    "\n",
    "print(\"Size of SRC-Vocab:\", len(src))\n",
    "print(\"Size of DST-Vocab:\", len(dst))\n",
    "print(\"Size of merged Vocab:\", len(merged))"
   ]
  },
  {
   "cell_type": "code",
   "execution_count": 66,
   "metadata": {
    "pycharm": {
     "name": "#%%\n"
    }
   },
   "outputs": [
    {
     "name": "stdout",
     "output_type": "stream",
     "text": [
      "Build Vocab of Words\n",
      "96335\n",
      "96335\n",
      "built....................\n",
      "Size of SRC-Vocab: 38361\n",
      "Size of DST-Vocab: 28518\n",
      "Size of merged Vocab: 39327\n"
     ]
    }
   ],
   "source": [
    "print(\"Build Vocab of Words\")\n",
    "\n",
    "# Create an empty dictionary \n",
    "src_w = dict()\n",
    "dst_w = dict()\n",
    "\n",
    "def sentence_count(sent, d):\n",
    "    for word in sent: \n",
    "        if word in d:\n",
    "            d[word] = d[word] + 1\n",
    "        else: \n",
    "            d[word] = 1\n",
    "\n",
    "df_src_w_99 = df_src_dst_w_tok.src\n",
    "df_dst_w_99 = df_src_dst_w_tok.dst\n",
    "\n",
    "print(len(df_src_w_99))\n",
    "print(len(df_dst_w_99))\n",
    "\n",
    "df_src_w_99.map(lambda w: sentence_count(w, src_w))\n",
    "df_dst_w_99.map(lambda w: sentence_count(w, dst_w))\n",
    "  \n",
    "# Merge Dicts\n",
    "merged_w = {**src_w, **dst_w}\n",
    "\n",
    "print(\"built....................\")\n",
    "\n",
    "print(\"Size of SRC-Vocab:\", len(src_w))\n",
    "print(\"Size of DST-Vocab:\", len(dst_w))\n",
    "print(\"Size of merged Vocab:\", len(merged_w))"
   ]
  },
  {
   "cell_type": "code",
   "execution_count": 67,
   "metadata": {},
   "outputs": [
    {
     "name": "stdout",
     "output_type": "stream",
     "text": [
      "Analyse Vocab\n",
      "analysed....................\n"
     ]
    }
   ],
   "source": [
    "print(\"Analyse Vocab\")\n",
    "\n",
    "v_merged_data = list(merged.values())\n",
    "v_df_merged_x = pd.DataFrame(v_merged_data) \n",
    "\n",
    "v_merged_w_data = list(merged_w.values())\n",
    "v_df_merged_w = pd.DataFrame(v_merged_w_data) \n",
    "\n",
    "\n",
    "max_df_merged_x = v_df_merged_x.max()\n",
    "quantile_75_df_merged_x = v_df_merged_x.quantile(.75)\n",
    "mean_df_merged_x = v_df_merged_x.mean()\n",
    "\n",
    "max_df_merged_w = v_df_merged_w.max()\n",
    "quantile_75_df_merged_w = v_df_merged_w.quantile(.75)\n",
    "mean_df_merged_w = v_df_merged_w.mean()\n",
    "\n",
    "print(\"analysed....................\")"
   ]
  },
  {
   "cell_type": "code",
   "execution_count": 68,
   "metadata": {},
   "outputs": [
    {
     "name": "stdout",
     "output_type": "stream",
     "text": [
      "Analyse Vocab\n",
      "analysed....................\n"
     ]
    }
   ],
   "source": [
    "print(\"Analyse Vocab\")\n",
    "\n",
    "v_merged_data = list(merged.values())\n",
    "v_df_merged_x = pd.DataFrame(v_merged_data) \n",
    "\n",
    "v_merged_w_data = list(merged_w.values())\n",
    "v_df_merged_w = pd.DataFrame(v_merged_w_data) \n",
    "\n",
    "\n",
    "max_df_merged_x = v_df_merged_x.max()\n",
    "quantile_75_df_merged_x = v_df_merged_x.quantile(.75)\n",
    "mean_df_merged_x = v_df_merged_x.mean()\n",
    "\n",
    "max_df_merged_w = v_df_merged_w.max()\n",
    "quantile_75_df_merged_w = v_df_merged_w.quantile(.75)\n",
    "mean_df_merged_w = v_df_merged_w.mean()\n",
    "\n",
    "print(\"analysed....................\")"
   ]
  },
  {
   "cell_type": "code",
   "execution_count": 69,
   "metadata": {},
   "outputs": [
    {
     "name": "stdout",
     "output_type": "stream",
     "text": [
      "WordPiece Vocab..............\n",
      "max_df_merged_x 0    105415\n",
      "dtype: int64\n",
      "quantile_75_df_merged_x 0    29.0\n",
      "Name: 0.75, dtype: float64\n",
      "mean_df_merged_x 0    78.237199\n",
      "dtype: float64\n",
      "Word Vocab..............\n",
      "max_df_merged_w 0    96814\n",
      "dtype: int64\n",
      "quantile_75_df_merged_w 0    10.0\n",
      "Name: 0.75, dtype: float64\n",
      "mean_df_merged_w 0    40.414372\n",
      "dtype: float64\n"
     ]
    }
   ],
   "source": [
    "print(\"WordPiece Vocab..............\")\n",
    "print(\"max_df_merged_x\", max_df_merged_x)\n",
    "print(\"quantile_75_df_merged_x\", quantile_75_df_merged_x)\n",
    "print(\"mean_df_merged_x\", mean_df_merged_x)\n",
    "\n",
    "print(\"Word Vocab..............\")\n",
    "print(\"max_df_merged_w\", max_df_merged_w)\n",
    "print(\"quantile_75_df_merged_w\", quantile_75_df_merged_w)\n",
    "print(\"mean_df_merged_w\", mean_df_merged_w)"
   ]
  },
  {
   "cell_type": "code",
   "execution_count": 70,
   "metadata": {},
   "outputs": [
    {
     "data": {
      "text/plain": [
       "0    1741873\n",
       "dtype: int64"
      ]
     },
     "execution_count": 70,
     "metadata": {},
     "output_type": "execute_result"
    }
   ],
   "source": [
    "v_df_merged_x.sum()"
   ]
  },
  {
   "cell_type": "code",
   "execution_count": 71,
   "metadata": {},
   "outputs": [
    {
     "data": {
      "text/plain": [
       "0    1589376\n",
       "dtype: int64"
      ]
     },
     "execution_count": 71,
     "metadata": {},
     "output_type": "execute_result"
    }
   ],
   "source": [
    "v_df_merged_w.sum()"
   ]
  },
  {
   "cell_type": "code",
   "execution_count": 21,
   "metadata": {},
   "outputs": [
    {
     "data": {
      "text/plain": [
       "79"
      ]
     },
     "execution_count": 21,
     "metadata": {},
     "output_type": "execute_result"
    }
   ],
   "source": [
    "94208 - 94129"
   ]
  },
  {
   "cell_type": "code",
   "execution_count": 26,
   "metadata": {},
   "outputs": [
    {
     "data": {
      "text/plain": [
       "-9174"
      ]
     },
     "execution_count": 26,
     "metadata": {},
     "output_type": "execute_result"
    }
   ],
   "source": [
    "19344-28518"
   ]
  },
  {
   "cell_type": "markdown",
   "metadata": {},
   "source": [
    " "
   ]
  }
 ],
 "metadata": {
  "kernelspec": {
   "display_name": "Python 3",
   "language": "python",
   "name": "python3"
  },
  "language_info": {
   "codemirror_mode": {
    "name": "ipython",
    "version": 3
   },
   "file_extension": ".py",
   "mimetype": "text/x-python",
   "name": "python",
   "nbconvert_exporter": "python",
   "pygments_lexer": "ipython3",
   "version": "3.7.7"
  }
 },
 "nbformat": 4,
 "nbformat_minor": 4
}