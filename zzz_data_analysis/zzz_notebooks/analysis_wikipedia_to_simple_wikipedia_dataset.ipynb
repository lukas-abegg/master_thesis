{
 "cells": [
  {
   "cell_type": "code",
   "execution_count": 1,
   "metadata": {},
   "outputs": [],
   "source": [
    "import nltk.data\n",
    "import os\n",
    "\n",
    "sent_detector = nltk.data.load('tokenizers/punkt/english.pickle')\n",
    "\n",
    "def extract_sent_pairs(path):\n",
    "    with open(filepath) as fp:\n",
    "        line = fp.readline()\n",
    "        sp_lines = 0\n",
    "        sentence_pairs = []\n",
    "        \n",
    "        while line:\n",
    "            line = fp.readline()\n",
    "            sentence_pair = sent_detector.tokenize(line.strip())\n",
    "            sentence_pairs.append(sentence_pair)\n",
    "            sp_lines += 1\n",
    "    print(\"Lines read:\", sp_lines)\n",
    "    return sentence_pairs\n"
   ]
  },
  {
   "cell_type": "code",
   "execution_count": 3,
   "metadata": {},
   "outputs": [
    {
     "name": "stdout",
     "output_type": "stream",
     "text": [
      "Expert fully aligned medical subset:\n",
      "------------------------------\n",
      "../data/wiki_simple/expert_fully_aligned_medical_subset.txt\n",
      "Lines read: 2267\n",
      "Sentence-Paris: 2267\n"
     ]
    }
   ],
   "source": [
    "wiki_simple = \"../data/wiki_simple\"\n",
    "\n",
    "print(\"Expert fully aligned medical subset:\")\n",
    "print(\"------------------------------\")\n",
    "\n",
    "filepath = 'expert_fully_aligned_medical_subset.txt'\n",
    "filepath = os.path.join(wiki_simple, filepath)\n",
    "print(filepath)\n",
    "\n",
    "sentence_pairs = extract_sent_pairs(filepath)\n",
    "print(\"Sentence-Paris:\", len(sentence_pairs))"
   ]
  },
  {
   "cell_type": "code",
   "execution_count": 8,
   "metadata": {
    "pycharm": {
     "name": "#%%\n"
    }
   },
   "outputs": [
    {
     "name": "stdout",
     "output_type": "stream",
     "text": [
      "Automatically fully aligned wikipedia set:\n",
      "------------------------------\n",
      "Lines read: 154805\n",
      "Sentence-Paris: 154805\n"
     ]
    }
   ],
   "source": [
    "print(\"Automatically fully aligned wikipedia set:\")\n",
    "print(\"------------------------------\")\n",
    "\n",
    "filepath = 'automatically_aligned_good_matching_fwiki.txt'\n",
    "filepath = os.path.join(wiki_simple, filepath)\n",
    "\n",
    "sentence_pairs = extract_sent_pairs(filepath)\n",
    "print(\"Sentence-Paris:\", len(sentence_pairs))"
   ]
  }
 ],
 "metadata": {
  "kernelspec": {
   "display_name": "Python 3",
   "language": "python",
   "name": "python3"
  },
  "language_info": {
   "codemirror_mode": {
    "name": "ipython",
    "version": 3
   },
   "file_extension": ".py",
   "mimetype": "text/x-python",
   "name": "python",
   "nbconvert_exporter": "python",
   "pygments_lexer": "ipython3",
   "version": "3.7.7"
  }
 },
 "nbformat": 4,
 "nbformat_minor": 2
}