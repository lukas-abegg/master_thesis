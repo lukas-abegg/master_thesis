{
 "cells": [
  {
   "cell_type": "code",
   "execution_count": 92,
   "metadata": {},
   "outputs": [],
   "source": [
    "import pandas as pd\n",
    "import os"
   ]
  },
  {
   "cell_type": "code",
   "execution_count": 93,
   "metadata": {},
   "outputs": [
    {
     "name": "stdout",
     "output_type": "stream",
     "text": [
      "Read MWS article sentences dataset:\n",
      "loaded..........\n"
     ]
    }
   ],
   "source": [
    "mws = \"../../data/wiki_simple/splits/bert_base\"\n",
    "\n",
    "print(\"Read MWS article sentences dataset:\")\n",
    "\n",
    "fp_train_src = 'train.src'\n",
    "fp_train_src = os.path.join(mws, fp_train_src)\n",
    "df_train_src = pd.read_csv(fp_train_src, header=None)\n",
    "df_train_src.columns = [\"sentence\"]\n",
    "\n",
    "fp_train_dst = 'train.dst'\n",
    "fp_train_dst = os.path.join(mws, fp_train_dst)\n",
    "df_train_dst = pd.read_csv(fp_train_dst, header=None)\n",
    "df_train_dst.columns = [\"sentence\"]\n",
    "\n",
    "fp_valid_src = 'valid.src'\n",
    "fp_valid_src = os.path.join(mws, fp_valid_src)\n",
    "df_valid_src = pd.read_csv(fp_valid_src, header=None)\n",
    "df_valid_src.columns = [\"sentence\"]\n",
    "\n",
    "fp_valid_dst = 'valid.dst'\n",
    "fp_valid_dst = os.path.join(mws, fp_valid_dst)\n",
    "df_valid_dst = pd.read_csv(fp_valid_dst, header=None)\n",
    "df_valid_dst.columns = [\"sentence\"]\n",
    "\n",
    "fp_test_src = 'test.src'\n",
    "fp_test_src = os.path.join(mws, fp_test_src)\n",
    "df_test_src = pd.read_csv(fp_test_src, header=None)\n",
    "df_test_src.columns = [\"sentence\"]\n",
    "\n",
    "fp_test_dst = 'test.dst'\n",
    "fp_test_dst = os.path.join(mws, fp_test_dst)\n",
    "df_test_dst = pd.read_csv(fp_test_dst, header=None)\n",
    "df_test_dst.columns = [\"sentence\"]\n",
    "\n",
    "print(\"loaded..........\")"
   ]
  },
  {
   "cell_type": "code",
   "execution_count": 94,
   "metadata": {},
   "outputs": [
    {
     "name": "stdout",
     "output_type": "stream",
     "text": [
      "Amount of sentences:\n",
      "....................\n",
      "df_train_src: 153677\n",
      "df_train_dst: 153677\n",
      "df_valid_src: 300\n",
      "df_valid_dst: 300\n",
      "df_test_src: 500\n",
      "df_test_dst: 500\n"
     ]
    }
   ],
   "source": [
    "print(\"Amount of sentences:\")\n",
    "print(\"....................\")\n",
    "print(\"df_train_src:\", len(df_train_src))\n",
    "print(\"df_train_dst:\", len(df_train_dst))\n",
    "print(\"df_valid_src:\", len(df_valid_src))\n",
    "print(\"df_valid_dst:\", len(df_valid_dst))\n",
    "print(\"df_test_src:\", len(df_test_src))\n",
    "print(\"df_test_dst:\", len(df_test_dst))"
   ]
  },
  {
   "cell_type": "code",
   "execution_count": 95,
   "metadata": {},
   "outputs": [],
   "source": [
    "from transformers import BertTokenizer\n",
    "bert_tokenizer = BertTokenizer.from_pretrained(\"bert-base-cased\")"
   ]
  },
  {
   "cell_type": "code",
   "execution_count": 96,
   "metadata": {},
   "outputs": [],
   "source": [
    "import spacy\n",
    "spacy_en = spacy.load('en')\n",
    "\n",
    "def tokenize_en(text):\n",
    "    return [tok.text for tok in spacy_en.tokenizer(text)]"
   ]
  },
  {
   "cell_type": "code",
   "execution_count": 97,
   "metadata": {},
   "outputs": [
    {
     "name": "stdout",
     "output_type": "stream",
     "text": [
      "Tokenize in WordPiece\n",
      "tokenized....................\n"
     ]
    }
   ],
   "source": [
    "print(\"Tokenize in WordPiece\")\n",
    "\n",
    "x1 = df_train_src[\"sentence\"].map(lambda x: bert_tokenizer.tokenize(x))\n",
    "x2 = df_train_dst[\"sentence\"].map(lambda x: bert_tokenizer.tokenize(x))\n",
    "x3 = df_valid_src[\"sentence\"].map(lambda x: bert_tokenizer.tokenize(x))\n",
    "x4 = df_valid_dst[\"sentence\"].map(lambda x: bert_tokenizer.tokenize(x))\n",
    "x5 = df_test_src[\"sentence\"].map(lambda x: bert_tokenizer.tokenize(x))\n",
    "x6 = df_test_dst[\"sentence\"].map(lambda x: bert_tokenizer.tokenize(x))\n",
    "\n",
    "x1_len = x1.map(lambda x: len(x))\n",
    "x2_len = x2.map(lambda x: len(x))\n",
    "x3_len = x3.map(lambda x: len(x))\n",
    "x4_len = x4.map(lambda x: len(x))\n",
    "x5_len = x5.map(lambda x: len(x))\n",
    "x6_len = x6.map(lambda x: len(x))\n",
    "\n",
    "print(\"tokenized....................\")"
   ]
  },
  {
   "cell_type": "code",
   "execution_count": 98,
   "metadata": {},
   "outputs": [
    {
     "name": "stdout",
     "output_type": "stream",
     "text": [
      "Tokenize in Words\n",
      "tokenized....................\n"
     ]
    }
   ],
   "source": [
    "print(\"Tokenize in Words\")\n",
    "\n",
    "w1 = df_train_src[\"sentence\"].map(lambda w: tokenize_en(w))\n",
    "w2 = df_train_dst[\"sentence\"].map(lambda w: tokenize_en(w))\n",
    "w3 = df_valid_src[\"sentence\"].map(lambda w: tokenize_en(w))\n",
    "w4 = df_valid_dst[\"sentence\"].map(lambda w: tokenize_en(w))\n",
    "w5 = df_test_src[\"sentence\"].map(lambda w: tokenize_en(w))\n",
    "w6 = df_test_dst[\"sentence\"].map(lambda w: tokenize_en(w))\n",
    "\n",
    "w1_len = w1.map(lambda w: len(w))\n",
    "w2_len = w2.map(lambda w: len(w))\n",
    "w3_len = w3.map(lambda w: len(w))\n",
    "w4_len = w4.map(lambda w: len(w))\n",
    "w5_len = w5.map(lambda w: len(w))\n",
    "w6_len = w6.map(lambda w: len(w))\n",
    "\n",
    "print(\"tokenized....................\")"
   ]
  },
  {
   "cell_type": "code",
   "execution_count": 99,
   "metadata": {},
   "outputs": [
    {
     "name": "stdout",
     "output_type": "stream",
     "text": [
      "Analyse\n",
      "analysed....................\n"
     ]
    }
   ],
   "source": [
    "print(\"Analyse\")\n",
    "\n",
    "df_src_x = pd.concat([x1_len, x3_len, x5_len])\n",
    "df_dst_x = pd.concat([x2_len, x4_len, x6_len])\n",
    "\n",
    "df_src_w = pd.concat([w1_len, w3_len, w5_len])\n",
    "df_dst_w = pd.concat([w2_len, w4_len, w6_len])\n",
    "\n",
    "df_src_x_99 = df_src_x[df_src_x < df_src_x.quantile(.99)]\n",
    "df_dst_x_99 = df_dst_x[df_dst_x < df_dst_x.quantile(.99)]\n",
    "\n",
    "df_src_w_99 = df_src_w[df_src_w < df_src_w.quantile(.99)]\n",
    "df_dst_w_99 = df_dst_w[df_dst_w < df_dst_w.quantile(.99)]\n",
    "\n",
    "max_df_src_x = df_src_x.max()\n",
    "quantile_75_df_src_x = df_src_x.quantile(.75)\n",
    "quantile_99_df_src_x = df_src_x.quantile(.99)\n",
    "mean_df_src_x = df_src_x_99.mean()\n",
    "\n",
    "max_df_src_w = df_src_w_99.max()\n",
    "quantile_75_df_src_w = df_src_w_99.quantile(.75)\n",
    "quantile_99_df_src_w = df_src_w_99.quantile(.99)\n",
    "mean_df_src_w = df_src_w_99.mean()\n",
    "\n",
    "max_df_dst_x = df_dst_x.max()\n",
    "quantile_75_df_dst_x = df_dst_x.quantile(.75)\n",
    "quantile_99_df_dst_x = df_dst_x.quantile(.99)\n",
    "mean_df_dst_x = df_dst_x_99.mean()\n",
    "\n",
    "max_df_dst_w = df_src_w_99.max()\n",
    "quantile_75_df_dst_w = df_dst_w_99.quantile(.75)\n",
    "quantile_99_df_dst_w = df_dst_w_99.quantile(.99)\n",
    "mean_df_dst_w = df_dst_w_99.mean()\n",
    "\n",
    "print(\"analysed....................\")"
   ]
  },
  {
   "cell_type": "code",
   "execution_count": 100,
   "metadata": {},
   "outputs": [
    {
     "name": "stdout",
     "output_type": "stream",
     "text": [
      "SRC Wordpiece....................\n",
      "max_df_src_x: 886\n",
      "quantile_75_df_src_x: 35.0\n",
      "quantile_99_df_src_x: 76.0\n",
      "mean_df_src_x: 27.55156223434169\n",
      "SRC Word....................\n",
      "max_df_src_w: 63\n",
      "quantile_75_df_src_w: 30.0\n",
      "quantile_99_df_src_w: 56.0\n",
      "mean_df_src_w: 24.14779575838083\n",
      "\n",
      "\n",
      "DST Wordpiece....................\n",
      "max_df_dst_x: 804\n",
      "quantile_75_df_dst_x: 29.0\n",
      "quantile_99_df_dst_x: 65.0\n",
      "mean_df_dst_x: 23.045964903097477\n",
      "DST Word....................\n",
      "max_df_dst_w: 63\n",
      "quantile_75_df_dst_w: 25.0\n",
      "quantile_99_df_dst_w: 49.0\n",
      "mean_df_dst_w: 20.2703422376625\n"
     ]
    }
   ],
   "source": [
    "print(\"SRC Wordpiece....................\")\n",
    "print(\"max_df_src_x:\", max_df_src_x)\n",
    "print(\"quantile_75_df_src_x:\", quantile_75_df_src_x)\n",
    "print(\"quantile_99_df_src_x:\", quantile_99_df_src_x)\n",
    "print(\"mean_df_src_x:\", mean_df_src_x)\n",
    "\n",
    "print(\"SRC Word....................\")\n",
    "print(\"max_df_src_w:\", max_df_src_w)\n",
    "print(\"quantile_75_df_src_w:\", quantile_75_df_src_w)\n",
    "print(\"quantile_99_df_src_w:\", quantile_99_df_src_w)\n",
    "print(\"mean_df_src_w:\", mean_df_src_w)\n",
    "print(\"\\n\")\n",
    "print(\"DST Wordpiece....................\")\n",
    "print(\"max_df_dst_x:\", max_df_dst_x)\n",
    "print(\"quantile_75_df_dst_x:\", quantile_75_df_dst_x)\n",
    "print(\"quantile_99_df_dst_x:\", quantile_99_df_dst_x)\n",
    "print(\"mean_df_dst_x:\", mean_df_dst_x)\n",
    "\n",
    "print(\"DST Word....................\")\n",
    "print(\"max_df_dst_w:\", max_df_dst_w)\n",
    "print(\"quantile_75_df_dst_w:\", quantile_75_df_dst_w)\n",
    "print(\"quantile_99_df_dst_w:\", quantile_99_df_dst_w)\n",
    "print(\"mean_df_dst_w:\", mean_df_dst_w)"
   ]
  },
  {
   "cell_type": "code",
   "execution_count": 103,
   "metadata": {},
   "outputs": [
    {
     "data": {
      "text/plain": [
       "<matplotlib.legend.Legend at 0x7f9944a98f10>"
      ]
     },
     "execution_count": 103,
     "metadata": {},
     "output_type": "execute_result"
    },
    {
     "data": {
      "image/png": "[encoded data removed]",
      "text/plain": [
       "<Figure size 1000x600 with 1 Axes>"
      ]
     },
     "metadata": {
      "needs_background": "light"
     },
     "output_type": "display_data"
    }
   ],
   "source": [
    "import matplotlib.pyplot as plt\n",
    "\n",
    "plt.rcParams.update({'figure.figsize':(5,3), 'figure.dpi':200})\n",
    "kwargs = dict(alpha=0.5, bins=100, density=True, stacked=True)\n",
    "\n",
    "# Plot Histogram on x\n",
    "plt.axvline(x=quantile_75_df_src_x,color='lightgreen', label='75th quantile source sequences')\n",
    "plt.axvline(x=quantile_75_df_dst_x,color='violet', label='75th quantile target sequences')\n",
    "plt.hist(df_src_x_99, **kwargs, color='g', label='source sentences')\n",
    "plt.hist(df_dst_x_99, **kwargs, color='b', label='target sequences')\n",
    "plt.gca().set(title='Word Pieces Sequence Length Histogram: MWS Dataset 99th Quantile', ylabel='Frequency', xlabel=\"Length\");\n",
    "plt.legend(loc='lower left', bbox_to_anchor= (1.1, 0.6), ncol=1,\n",
    "            borderaxespad=0, frameon=False)"
   ]
  },
  {
   "cell_type": "code",
   "execution_count": 79,
   "metadata": {},
   "outputs": [
    {
     "name": "stdout",
     "output_type": "stream",
     "text": [
      "Amount of src/dst 154477\n"
     ]
    }
   ],
   "source": [
    "# merge tokenized sentences Wordpiece\n",
    "df_src_x_tok = pd.concat([x1, x3, x5])\n",
    "df_dst_x_tok = pd.concat([x2, x4, x6])\n",
    "\n",
    "frame = { 'src': df_src_x_tok, 'dst': df_dst_x_tok } \n",
    "df_src_dst_tok = pd.DataFrame(frame) \n",
    "\n",
    "print(\"Amount of src/dst\", len(df_src_dst_tok))"
   ]
  },
  {
   "cell_type": "code",
   "execution_count": 80,
   "metadata": {},
   "outputs": [
    {
     "name": "stdout",
     "output_type": "stream",
     "text": [
      "Amount of src/dst 154477\n"
     ]
    }
   ],
   "source": [
    "# merge tokenized sentences Words\n",
    "df_src_w_tok = pd.concat([w1, w3, w5])\n",
    "df_dst_w_tok = pd.concat([w2, w4, w6])\n",
    "\n",
    "frame = { 'src': df_src_w_tok, 'dst': df_dst_w_tok } \n",
    "df_src_dst_w_tok = pd.DataFrame(frame) \n",
    "\n",
    "print(\"Amount of src/dst\", len(df_src_dst_w_tok))"
   ]
  },
  {
   "cell_type": "code",
   "execution_count": 81,
   "metadata": {},
   "outputs": [
    {
     "name": "stdout",
     "output_type": "stream",
     "text": [
      "quantile_99_df_src_x 76.0\n",
      "quantile_99_df_dst_x 65.0\n",
      "[22, 101, 423, 712, 762, 1317, 1463, 1662, 1730, 1859, 1998, 2026, 2219, 2497, 2498, 2535, 2757, 2816, 2821, 3142, 3262, 3359, 3474, 3512, 3674, 3675, 3887, 3980, 4206, 4509, 5201, 5674, 5974, 5977, 6178, 6293, 6896, 6921, 7831, 8706, 8822, 8982, 8986, 8988, 8989, 9212, 9368, 10138, 10357, 10518, 10537, 10850, 10901, 11182, 11390, 11391, 11394, 11525, 11772, 11970, 12518, 12955, 12969, 13249, 13300, 13518, 13943, 14417, 14434, 16113, 16674, 16721, 17197, 17437, 18221, 18386, 18584, 18984, 19305, 19433, 19439, 19564, 19679, 20528, 20695, 20772, 21155, 21158, 21484, 21503, 21510, 21551, 21959, 22752, 22921, 24285, 24287, 24551, 24556, 24969, 25037, 25246, 25262, 26011, 26014, 26525, 27631, 27740, 28228, 28229, 28279, 28306, 28308, 28836, 28848, 29020, 29021, 29174, 29449, 30157, 30338, 30688, 31240, 31292, 31887, 32230, 32422, 33075, 33153, 33295, 33441, 33545, 33651, 33908, 33948, 34049, 34118, 34123, 34308, 34817, 35083, 35246, 35260, 35464, 35958, 36106, 36406, 36652, 37072, 37298, 37419, 38225, 38392, 38453, 38963, 39236, 39506, 40280, 40363, 40368, 40371, 41333, 41997, 42513, 42974, 43402, 43450, 43622, 43875, 44126, 44139, 44305, 44341, 45145, 45288, 45702, 45750, 45880, 46108, 46680, 46731, 46843, 47084, 47200, 47409, 47427, 49223, 49568, 49651, 49735, 49992, 50051, 50054, 50300, 50844, 50929, 51137, 51145, 51220, 51248, 51988, 51993, 52196, 52599, 53093, 53439, 53443, 53522, 54011, 54203, 54456, 54467, 54486, 54544, 55845, 55962, 55974, 56498, 56580, 56582, 56636, 56643, 56660, 56726, 56796, 56812, 57795, 57912, 58164, 58181, 58640, 58734, 58827, 58830, 58842, 58850, 58856, 59213, 59406, 59534, 59799, 59981, 60131, 60560, 60572, 60797, 61140, 61151, 61491, 61493, 61553, 61673, 62027, 62361, 62390, 62805, 63550, 63638, 63706, 63987, 64275, 64507, 64779, 65166, 65179, 65283, 65465, 65911, 66117, 66373, 66446, 66911, 67738, 68336, 68423, 68617, 68669, 68688, 68689, 68696, 68876, 69087, 69102, 69384, 70246, 70276, 71240, 71640, 71737, 71991, 72329, 72385, 72386, 72387, 72779, 72807, 72830, 72833, 73050, 73055, 73068, 73102, 73119, 73238, 73348, 73546, 73918, 74006, 74178, 74435, 74596, 74660, 75084, 75793, 75861, 75872, 76125, 76258, 76574, 76837, 77186, 77566, 77646, 77989, 78101, 78787, 79312, 79368, 79457, 79533, 79654, 79669, 79995, 80617, 80831, 80845, 81388, 81435, 81621, 81687, 81879, 82061, 82691, 82765, 83124, 83140, 83153, 83394, 83591, 83947, 84094, 84343, 85126, 85383, 85500, 85651, 86177, 86456, 86757, 86934, 87507, 87514, 88158, 88512, 88544, 88561, 88563, 88567, 88574, 89082, 89109, 89127, 89149, 89360, 89623, 89826, 90054, 90128, 90129, 90478, 91220, 91535, 91598, 92016, 92036, 92254, 92882, 93089, 93249, 93251, 94641, 94777, 95476, 95848, 95934, 96270, 96314, 96422, 96513, 96527, 97566, 97640, 98076, 98151, 98152, 98369, 98456, 98521, 98555, 98803, 99034, 99054, 99070, 99371, 99689, 99693, 99960, 100249, 100250, 101126, 101570, 101809, 102216, 102599, 102649, 103185, 103188, 103190, 103633, 103644, 103701, 103753, 103923, 103998, 104204, 104436, 104499, 104504, 104509, 104517, 104521, 104631, 104651, 104761, 105521, 105524, 105559, 105568, 105886, 106994, 107249, 107436, 108198, 108366, 108370, 108465, 109485, 109598, 109659, 109662, 109663, 109807, 109867, 109915, 109934, 109939, 110047, 110435, 110694, 110949, 111644, 111866, 111916, 111946, 112078, 112669, 112671, 112821, 112848, 112899, 113240, 113440, 113484, 113794, 113812, 114568, 114575, 115094, 115095, 115173, 115947, 116537, 116694, 116869, 117439, 117451, 117919, 118100, 118411, 118467, 118702, 118703, 118775, 118785, 118942, 119158, 119208, 119275, 119346, 119502, 119702, 119973, 121002, 121100, 121101, 121152, 121309, 121393, 121547, 122019, 122031, 122291, 122823, 123049, 123053, 123256, 123381, 123404, 123711, 123793, 124130, 124451, 125597, 126381, 126583, 127070, 127140, 128047, 128097, 128748, 129642, 129805, 131062, 131685, 131702, 133132, 133845, 134152, 134342, 134605, 134692, 135127, 135343, 135959, 136064, 136068, 136070, 136304, 136416, 136439, 136894, 137126, 137390, 137756, 138260, 138430, 138431, 138499, 138603, 138627, 138708, 138777, 138811, 138840, 138953, 139051, 139622, 139872, 139993, 140584, 140703, 140709, 141111, 141408, 141514, 141770, 142320, 142803, 143326, 143718, 143860, 143993, 144023, 145127, 145129, 145355, 145641, 145752, 145891, 146212, 146395, 146415, 146596, 146746, 147063, 147069, 147703, 147714, 147923, 147928, 148043, 148106, 148108, 148147, 148169, 148318, 148466, 148917, 148968, 149792, 150177, 150775, 150899, 150928, 150956, 151872, 152090, 152127, 152331, 152332, 152589, 153095, 153536, 153573, 153577, 50, 36, 82, 437]\n",
      "154477\n",
      "153826\n"
     ]
    }
   ],
   "source": [
    "# remove sentence pairs with over .99 percentile length from WordPiece\n",
    "print(\"quantile_99_df_src_x\", quantile_99_df_src_x)\n",
    "print(\"quantile_99_df_dst_x\", quantile_99_df_dst_x)\n",
    "\n",
    "index_drop = []\n",
    "for index, row in df_src_dst_tok.iterrows():\n",
    "    if len(row.src) > quantile_99_df_src_x and len(row.dst) > quantile_99_df_dst_x:\n",
    "        index_drop.append(index)\n",
    "print(index_drop)\n",
    "print(len(df_src_dst_tok))\n",
    "df_src_dst_tok = df_src_dst_tok.drop(df_src_dst_tok.index[index_drop])\n",
    "print(len(df_src_dst_tok))"
   ]
  },
  {
   "cell_type": "code",
   "execution_count": 82,
   "metadata": {
    "pycharm": {
     "name": "#%%\n"
    }
   },
   "outputs": [
    {
     "name": "stdout",
     "output_type": "stream",
     "text": [
      "154477\n",
      "153826\n"
     ]
    }
   ],
   "source": [
    "print(len(df_src_dst_w_tok))\n",
    "df_src_dst_w_tok = df_src_dst_w_tok.drop(df_src_dst_w_tok.index[index_drop])\n",
    "print(len(df_src_dst_w_tok))"
   ]
  },
  {
   "cell_type": "code",
   "execution_count": 83,
   "metadata": {},
   "outputs": [
    {
     "name": "stdout",
     "output_type": "stream",
     "text": [
      "quantile_99_df_src_x 76.0\n",
      "quantile_99_df_dst_x 65.0\n",
      "[22, 101, 423, 712, 762, 1317, 1463, 1662, 1730, 1859, 1998, 2026, 2219, 2497, 2498, 2535, 2757, 2816, 2821, 3142, 3262, 3359, 3474, 3512, 3674, 3675, 3887, 3980, 4206, 4509, 5201, 5674, 5974, 5977, 6178, 6293, 6896, 6921, 7831, 8706, 8822, 8982, 8986, 8988, 8989, 9212, 9368, 10138, 10357, 10518, 10537, 10850, 10901, 11182, 11390, 11391, 11394, 11525, 11772, 11970, 12518, 12955, 12969, 13249, 13300, 13518, 13943, 14417, 14434, 16113, 16674, 16721, 17197, 17437, 18221, 18386, 18584, 18984, 19305, 19433, 19439, 19564, 19679, 20528, 20695, 20772, 21155, 21158, 21484, 21503, 21510, 21551, 21959, 22752, 22921, 24285, 24287, 24551, 24556, 24969, 25037, 25246, 25262, 26011, 26014, 26525, 27631, 27740, 28228, 28229, 28279, 28306, 28308, 28836, 28848, 29020, 29021, 29174, 29449, 30157, 30338, 30688, 31240, 31292, 31887, 32230, 32422, 33075, 33153, 33295, 33441, 33545, 33651, 33908, 33948, 34049, 34118, 34123, 34308, 34817, 35083, 35246, 35260, 35464, 35958, 36106, 36406, 36652, 37072, 37298, 37419, 38225, 38392, 38453, 38963, 39236, 39506, 40280, 40363, 40368, 40371, 41333, 41997, 42513, 42974, 43402, 43450, 43622, 43875, 44126, 44139, 44305, 44341, 45145, 45288, 45702, 45750, 45880, 46108, 46680, 46731, 46843, 47084, 47200, 47409, 47427, 49223, 49568, 49651, 49735, 49992, 50051, 50054, 50300, 50844, 50929, 51137, 51145, 51220, 51248, 51988, 51993, 52196, 52599, 53093, 53439, 53443, 53522, 54011, 54203, 54456, 54467, 54486, 54544, 55845, 55962, 55974, 56498, 56580, 56582, 56636, 56643, 56660, 56726, 56796, 56812, 57795, 57912, 58164, 58181, 58640, 58734, 58827, 58830, 58842, 58850, 58856, 59213, 59406, 59534, 59799, 59981, 60131, 60560, 60572, 60797, 61140, 61151, 61491, 61493, 61553, 61673, 62027, 62361, 62390, 62805, 63550, 63638, 63706, 63987, 64275, 64507, 64779, 65166, 65179, 65283, 65465, 65911, 66117, 66373, 66446, 66911, 67738, 68336, 68423, 68617, 68669, 68688, 68689, 68696, 68876, 69087, 69102, 69384, 70246, 70276, 71240, 71640, 71737, 71991, 72329, 72385, 72386, 72387, 72779, 72807, 72830, 72833, 73050, 73055, 73068, 73102, 73119, 73238, 73348, 73546, 73918, 74006, 74178, 74435, 74596, 74660, 75084, 75793, 75861, 75872, 76125, 76258, 76574, 76837, 77186, 77566, 77646, 77989, 78101, 78787, 79312, 79368, 79457, 79533, 79654, 79669, 79995, 80617, 80831, 80845, 81388, 81435, 81621, 81687, 81879, 82061, 82691, 82765, 83124, 83140, 83153, 83394, 83591, 83947, 84094, 84343, 85126, 85383, 85500, 85651, 86177, 86456, 86757, 86934, 87507, 87514, 88158, 88512, 88544, 88561, 88563, 88567, 88574, 89082, 89109, 89127, 89149, 89360, 89623, 89826, 90054, 90128, 90129, 90478, 91220, 91535, 91598, 92016, 92036, 92254, 92882, 93089, 93249, 93251, 94641, 94777, 95476, 95848, 95934, 96270, 96314, 96422, 96513, 96527, 97566, 97640, 98076, 98151, 98152, 98369, 98456, 98521, 98555, 98803, 99034, 99054, 99070, 99371, 99689, 99693, 99960, 100249, 100250, 101126, 101570, 101809, 102216, 102599, 102649, 103185, 103188, 103190, 103633, 103644, 103701, 103753, 103923, 103998, 104204, 104436, 104499, 104504, 104509, 104517, 104521, 104631, 104651, 104761, 105521, 105524, 105559, 105568, 105886, 106994, 107249, 107436, 108198, 108366, 108370, 108465, 109485, 109598, 109659, 109662, 109663, 109807, 109867, 109915, 109934, 109939, 110047, 110435, 110694, 110949, 111644, 111866, 111916, 111946, 112078, 112669, 112671, 112821, 112848, 112899, 113240, 113440, 113484, 113794, 113812, 114568, 114575, 115094, 115095, 115173, 115947, 116537, 116694, 116869, 117439, 117451, 117919, 118100, 118411, 118467, 118702, 118703, 118775, 118785, 118942, 119158, 119208, 119275, 119346, 119502, 119702, 119973, 121002, 121100, 121101, 121152, 121309, 121393, 121547, 122019, 122031, 122291, 122823, 123049, 123053, 123256, 123381, 123404, 123711, 123793, 124130, 124451, 125597, 126381, 126583, 127070, 127140, 128047, 128097, 128748, 129642, 129805, 131062, 131685, 131702, 133132, 133845, 134152, 134342, 134605, 134692, 135127, 135343, 135959, 136064, 136068, 136070, 136304, 136416, 136439, 136894, 137126, 137390, 137756, 138260, 138430, 138431, 138499, 138603, 138627, 138708, 138777, 138811, 138840, 138953, 139051, 139622, 139872, 139993, 140584, 140703, 140709, 141111, 141408, 141514, 141770, 142320, 142803, 143326, 143718, 143860, 143993, 144023, 145127, 145129, 145355, 145641, 145752, 145891, 146212, 146395, 146415, 146596, 146746, 147063, 147069, 147703, 147714, 147923, 147928, 148043, 148106, 148108, 148147, 148169, 148318, 148466, 148917, 148968, 149792, 150177, 150775, 150899, 150928, 150956, 151872, 152090, 152127, 152331, 152332, 152589, 153095, 153536, 153573, 153577]\n",
      "153677\n",
      "153042\n",
      "[50]\n",
      "300\n",
      "299\n",
      "[36, 82, 437]\n",
      "500\n",
      "497\n"
     ]
    }
   ],
   "source": [
    "# remove sentence pairs with over .99 percentile length from WordPiece for single sets\n",
    "print(\"quantile_99_df_src_x\", quantile_99_df_src_x)\n",
    "print(\"quantile_99_df_dst_x\", quantile_99_df_dst_x)\n",
    "\n",
    "# merge tokenized sentences Wordpiece\n",
    "frame_train = { 'src': x1, 'dst': x2 } \n",
    "df_src_dst_train = pd.DataFrame(frame_train) \n",
    "\n",
    "frame_valid = { 'src': x3, 'dst': x4 } \n",
    "df_src_dst_valid = pd.DataFrame(frame_valid) \n",
    "\n",
    "frame_test = { 'src': x5, 'dst': x6 } \n",
    "df_src_dst_test = pd.DataFrame(frame_test)\n",
    "\n",
    "index_drop = []\n",
    "for index, row in df_src_dst_train.iterrows():\n",
    "    if len(row.src) > quantile_99_df_src_x and len(row.dst) > quantile_99_df_dst_x:\n",
    "        index_drop.append(index)\n",
    "print(index_drop)\n",
    "print(len(df_src_dst_train))\n",
    "df_src_dst_train = df_src_dst_train.drop(df_src_dst_train.index[index_drop])\n",
    "print(len(df_src_dst_train))\n",
    "\n",
    "index_drop = []\n",
    "for index, row in df_src_dst_valid.iterrows():\n",
    "    if len(row.src) > quantile_99_df_src_x and len(row.dst) > quantile_99_df_dst_x:\n",
    "        index_drop.append(index)\n",
    "print(index_drop)\n",
    "print(len(df_src_dst_valid))\n",
    "df_src_dst_valid = df_src_dst_valid.drop(df_src_dst_valid.index[index_drop])\n",
    "print(len(df_src_dst_valid))\n",
    "\n",
    "index_drop = []\n",
    "for index, row in df_src_dst_test.iterrows():\n",
    "    if len(row.src) > quantile_99_df_src_x and len(row.dst) > quantile_99_df_dst_x:\n",
    "        index_drop.append(index)\n",
    "print(index_drop)\n",
    "print(len(df_src_dst_test))\n",
    "df_src_dst_test = df_src_dst_test.drop(df_src_dst_test.index[index_drop])\n",
    "print(len(df_src_dst_test))"
   ]
  },
  {
   "cell_type": "code",
   "execution_count": 84,
   "metadata": {
    "pycharm": {
     "name": "#%%\n"
    }
   },
   "outputs": [
    {
     "name": "stdout",
     "output_type": "stream",
     "text": [
      "Build Vocab of WordPiece\n",
      "153826\n",
      "153826\n",
      "built....................\n",
      "Size of SRC-Vocab: 26532\n",
      "Size of DST-Vocab: 26431\n",
      "Size of merged Vocab: 26567\n"
     ]
    }
   ],
   "source": [
    "print(\"Build Vocab of WordPiece\")\n",
    "\n",
    "# Create an empty dictionary \n",
    "src = dict()\n",
    "dst = dict()\n",
    "\n",
    "def sentence_count(sent, d):\n",
    "    for word in sent: \n",
    "        if word in d:\n",
    "            d[word] = d[word] + 1\n",
    "        else: \n",
    "            d[word] = 1\n",
    "\n",
    "df_src_x_99 = df_src_dst_tok.src\n",
    "df_dst_x_99 = df_src_dst_tok.dst\n",
    "\n",
    "print(len(df_src_x_99))\n",
    "print(len(df_dst_x_99))\n",
    "\n",
    "df_src_x_99.map(lambda x: sentence_count(x, src))\n",
    "df_dst_x_99.map(lambda x: sentence_count(x, dst))\n",
    "  \n",
    "# Merge Dicts\n",
    "merged = {**src, **dst}\n",
    "\n",
    "print(\"built....................\")\n",
    "\n",
    "print(\"Size of SRC-Vocab:\", len(src))\n",
    "print(\"Size of DST-Vocab:\", len(dst))\n",
    "print(\"Size of merged Vocab:\", len(merged))"
   ]
  },
  {
   "cell_type": "code",
   "execution_count": 85,
   "metadata": {
    "pycharm": {
     "name": "#%%\n"
    }
   },
   "outputs": [
    {
     "name": "stdout",
     "output_type": "stream",
     "text": [
      "Build Vocab of Words\n",
      "153826\n",
      "153826\n",
      "built....................\n",
      "Size of SRC-Vocab: 124818\n",
      "Size of DST-Vocab: 112710\n",
      "Size of merged Vocab: 130530\n"
     ]
    }
   ],
   "source": [
    "print(\"Build Vocab of Words\")\n",
    "\n",
    "# Create an empty dictionary \n",
    "src_w = dict()\n",
    "dst_w = dict()\n",
    "\n",
    "def sentence_count(sent, d):\n",
    "    for word in sent: \n",
    "        if word in d:\n",
    "            d[word] = d[word] + 1\n",
    "        else: \n",
    "            d[word] = 1\n",
    "\n",
    "df_src_w_99 = df_src_dst_w_tok.src\n",
    "df_dst_w_99 = df_src_dst_w_tok.dst\n",
    "\n",
    "print(len(df_src_w_99))\n",
    "print(len(df_dst_w_99))\n",
    "\n",
    "df_src_w_99.map(lambda w: sentence_count(w, src_w))\n",
    "df_dst_w_99.map(lambda w: sentence_count(w, dst_w))\n",
    "  \n",
    "# Merge Dicts\n",
    "merged_w = {**src_w, **dst_w}\n",
    "\n",
    "print(\"built....................\")\n",
    "\n",
    "print(\"Size of SRC-Vocab:\", len(src_w))\n",
    "print(\"Size of DST-Vocab:\", len(dst_w))\n",
    "print(\"Size of merged Vocab:\", len(merged_w))"
   ]
  },
  {
   "cell_type": "code",
   "execution_count": 86,
   "metadata": {},
   "outputs": [
    {
     "name": "stdout",
     "output_type": "stream",
     "text": [
      "Analyse Vocab\n",
      "analysed....................\n"
     ]
    }
   ],
   "source": [
    "print(\"Analyse Vocab\")\n",
    "\n",
    "v_merged_data = list(merged.values())\n",
    "v_df_merged_x = pd.DataFrame(v_merged_data) \n",
    "\n",
    "v_merged_w_data = list(merged_w.values())\n",
    "v_df_merged_w = pd.DataFrame(v_merged_w_data) \n",
    "\n",
    "\n",
    "max_df_merged_x = v_df_merged_x.max()\n",
    "quantile_75_df_merged_x = v_df_merged_x.quantile(.75)\n",
    "mean_df_merged_x = v_df_merged_x.mean()\n",
    "\n",
    "max_df_merged_w = v_df_merged_w.max()\n",
    "quantile_75_df_merged_w = v_df_merged_w.quantile(.75)\n",
    "mean_df_merged_w = v_df_merged_w.mean()\n",
    "\n",
    "print(\"analysed....................\")"
   ]
  },
  {
   "cell_type": "code",
   "execution_count": 87,
   "metadata": {},
   "outputs": [
    {
     "name": "stdout",
     "output_type": "stream",
     "text": [
      "Analyse Vocab\n",
      "analysed....................\n"
     ]
    }
   ],
   "source": [
    "print(\"Analyse Vocab\")\n",
    "\n",
    "v_merged_data = list(merged.values())\n",
    "v_df_merged_x = pd.DataFrame(v_merged_data) \n",
    "\n",
    "v_merged_w_data = list(merged_w.values())\n",
    "v_df_merged_w = pd.DataFrame(v_merged_w_data) \n",
    "\n",
    "\n",
    "max_df_merged_x = v_df_merged_x.max()\n",
    "quantile_75_df_merged_x = v_df_merged_x.quantile(.75)\n",
    "mean_df_merged_x = v_df_merged_x.mean()\n",
    "\n",
    "max_df_merged_w = v_df_merged_w.max()\n",
    "quantile_75_df_merged_w = v_df_merged_w.quantile(.75)\n",
    "mean_df_merged_w = v_df_merged_w.mean()\n",
    "\n",
    "print(\"analysed....................\")"
   ]
  },
  {
   "cell_type": "code",
   "execution_count": 88,
   "metadata": {},
   "outputs": [
    {
     "name": "stdout",
     "output_type": "stream",
     "text": [
      "WordPiece Vocab..............\n",
      "max_df_merged_x 0    175943\n",
      "dtype: int64\n",
      "quantile_75_df_merged_x 0    65.0\n",
      "Name: 0.75, dtype: float64\n",
      "mean_df_merged_x 0    135.352279\n",
      "dtype: float64\n",
      "Word Vocab..............\n",
      "max_df_merged_w 0    175723\n",
      "dtype: int64\n",
      "quantile_75_df_merged_w 0    4.0\n",
      "Name: 0.75, dtype: float64\n",
      "mean_df_merged_w 0    24.389933\n",
      "dtype: float64\n"
     ]
    }
   ],
   "source": [
    "print(\"WordPiece Vocab..............\")\n",
    "print(\"max_df_merged_x\", max_df_merged_x)\n",
    "print(\"quantile_75_df_merged_x\", quantile_75_df_merged_x)\n",
    "print(\"mean_df_merged_x\", mean_df_merged_x)\n",
    "\n",
    "print(\"Word Vocab..............\")\n",
    "print(\"max_df_merged_w\", max_df_merged_w)\n",
    "print(\"quantile_75_df_merged_w\", quantile_75_df_merged_w)\n",
    "print(\"mean_df_merged_w\", mean_df_merged_w)"
   ]
  },
  {
   "cell_type": "code",
   "execution_count": 89,
   "metadata": {},
   "outputs": [
    {
     "data": {
      "text/plain": [
       "0    3595904\n",
       "dtype: int64"
      ]
     },
     "execution_count": 89,
     "metadata": {},
     "output_type": "execute_result"
    }
   ],
   "source": [
    "v_df_merged_x.sum()"
   ]
  },
  {
   "cell_type": "code",
   "execution_count": 90,
   "metadata": {},
   "outputs": [
    {
     "data": {
      "text/plain": [
       "0    3183618\n",
       "dtype: int64"
      ]
     },
     "execution_count": 90,
     "metadata": {},
     "output_type": "execute_result"
    }
   ],
   "source": [
    "v_df_merged_w.sum()"
   ]
  },
  {
   "cell_type": "code",
   "execution_count": null,
   "metadata": {},
   "outputs": [],
   "source": []
  },
  {
   "cell_type": "code",
   "execution_count": null,
   "metadata": {},
   "outputs": [],
   "source": []
  }
 ],
 "metadata": {
  "kernelspec": {
   "display_name": "Python 3",
   "language": "python",
   "name": "python3"
  },
  "language_info": {
   "codemirror_mode": {
    "name": "ipython",
    "version": 3
   },
   "file_extension": ".py",
   "mimetype": "text/x-python",
   "name": "python",
   "nbconvert_exporter": "python",
   "pygments_lexer": "ipython3",
   "version": "3.7.7"
  }
 },
 "nbformat": 4,
 "nbformat_minor": 4
}
